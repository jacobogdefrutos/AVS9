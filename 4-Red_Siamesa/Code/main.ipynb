{
 "cells": [
  {
   "cell_type": "code",
   "execution_count": 5,
   "metadata": {},
   "outputs": [],
   "source": [
    "import numpy as np\n",
    "import pandas as pd\n",
    "import tensorflow as tf\n",
    "import matplotlib.pyplot as plt\n",
    "import cv2\n",
    "import torch.nn.functional as F\n",
    "from keras.applications import VGG19\n",
    "from keras.preprocessing.image import ImageDataGenerator\n",
    "from keras.applications.vgg19 import VGG19\n",
    "from utils import to_grayscale_then_rgb\n",
    "from keras.models import Model\n",
    "from keras.layers import Input, Conv2D, MaxPooling2D, Flatten, Dense,Lambda\n",
    "from keras.optimizers import Adam,SGD\n",
    "from sklearn.model_selection import train_test_split"
   ]
  },
  {
   "cell_type": "code",
   "execution_count": 6,
   "metadata": {},
   "outputs": [
    {
     "name": "stdout",
     "output_type": "stream",
     "text": [
      "Train shape:  (65, 3)\n",
      "Test shape:  (17, 3)\n"
     ]
    }
   ],
   "source": [
    "file_data_b_csv=r'/home/jacobo15defrutos/AVS9/4-Red_Siamesa/Code/seg2_RS.csv'\n",
    "df= pd.read_csv(file_data_b_csv)\n",
    "df_train, df_test = train_test_split(df, test_size=0.2,random_state=41)\n",
    "print(\"Train shape: \",df_train.shape)\n",
    "print(\"Test shape: \",df_test.shape)"
   ]
  },
  {
   "cell_type": "code",
   "execution_count": 3,
   "metadata": {},
   "outputs": [],
   "source": [
    "labels_train= df_train['Label']\n",
    "train_list_OI=[]\n",
    "train_list_OD=[]\n",
    "target_size = (224, 224)\n",
    "folder= r'/home/jacobo15defrutos/AVS9/Data/fotos_segm2/'\n",
    "for name in df_train['OI']:\n",
    "    path= folder + name\n",
    "    img=cv2.imread(path,cv2.IMREAD_GRAYSCALE) #,cv2.IMREAD_GRAYSCALE\n",
    "    img= cv2.resize(img,target_size)\n",
    "    train_list_OI.append(img)\n",
    "for name in df_train['OD']:\n",
    "    path= folder + name\n",
    "    img=cv2.imread(path,cv2.IMREAD_GRAYSCALE) #,cv2.IMREAD_GRAYSCALE\n",
    "    img= cv2.resize(img,target_size)\n",
    "    train_list_OD.append(img)\n",
    "train_OI= np.array(train_list_OI)\n",
    "train_OD= np.array(train_list_OD)\n",
    "\n",
    "\n",
    "# Convert the original labels to one-hot encoded labels\n",
    "y_train = np.zeros((labels_train.shape[0], 2))\n",
    "y_train[np.arange(labels_train.shape[0]), labels_train] = 1\n",
    "x_train_OI= train_OI/255\n",
    "x_train_OD= train_OD/255"
   ]
  },
  {
   "cell_type": "code",
   "execution_count": 4,
   "metadata": {},
   "outputs": [
    {
     "data": {
      "image/png": "[encoded data removed]",
      "text/plain": [
       "<Figure size 640x480 with 1 Axes>"
      ]
     },
     "metadata": {},
     "output_type": "display_data"
    }
   ],
   "source": [
    "label_counts = df_train['Label'].value_counts()\n",
    "\n",
    "# Create a bar plot\n",
    "plt.bar(label_counts.index, label_counts.values)\n",
    "\n",
    "# Set the labels and title\n",
    "plt.xticks(label_counts.index, [\"CMV\", \"SURV\"])\n",
    "plt.xlabel('Label')\n",
    "plt.ylabel('Count')\n",
    "plt.title('Bar Plot of Label Counts')\n",
    "\n",
    "# Show the plot\n",
    "plt.show()"
   ]
  },
  {
   "cell_type": "code",
   "execution_count": null,
   "metadata": {},
   "outputs": [],
   "source": [
    "\n",
    "labels_test= df_test['Label']\n",
    "test_list_OI=[]\n",
    "test_list_OD=[]\n",
    "target_size = (224, 224)\n",
    "folder= '/home/jacobo15defrutos/AVS9/Data/fotos_segm2/'\n",
    "for name in df_test['OI']:\n",
    "    path= folder + name\n",
    "    img=cv2.imread(path, cv2.IMREAD_GRAYSCALE)#, cv2.IMREAD_GRAYSCALE\n",
    "    img= cv2.resize(img,target_size)\n",
    "    test_list_OI.append(img)\n",
    "for name in df_test['OD']:\n",
    "    path= folder + name\n",
    "    img=cv2.imread(path, cv2.IMREAD_GRAYSCALE)#, cv2.IMREAD_GRAYSCALE\n",
    "    img= cv2.resize(img,target_size)\n",
    "    test_list_OD.append(img)\n",
    "test_OI= np.array(test_list_OI)\n",
    "test_OD= np.array(test_list_OD)\n",
    "\n",
    "x_test_OI= test_OI/255\n",
    "x_test_OD= test_OD/255\n",
    "# Convert the original labels to one-hot encoded labels\n",
    "y_test = np.zeros((labels_test.shape[0], 3))\n",
    "y_test[np.arange(labels_test.shape[0]), labels_test] = 1\n",
    "x_test_OI.shape\n"
   ]
  },
  {
   "cell_type": "code",
   "execution_count": null,
   "metadata": {},
   "outputs": [],
   "source": [
    "label_counts = df_test['Label'].value_counts()\n",
    "\n",
    "# Create a bar plot\n",
    "plt.bar(label_counts.index, label_counts.values)\n",
    "\n",
    "# Set the labels and title\n",
    "plt.xticks(label_counts.index, [\"CMV\", \"SURV\"])\n",
    "plt.xlabel('Label')\n",
    "plt.ylabel('Count')\n",
    "plt.title('Bar Plot of Label Counts')\n",
    "\n",
    "# Show the plot\n",
    "plt.show()"
   ]
  },
  {
   "cell_type": "code",
   "execution_count": null,
   "metadata": {},
   "outputs": [],
   "source": [
    "# Definir la arquitectura de LeNet-5\n",
    "\n",
    "def build_LeNet5_branch(input_shape):\n",
    "    input_layer = Input(shape=input_shape)\n",
    "\n",
    "    x = Conv2D(6, kernel_size=(5, 5), activation='relu')(input_layer)\n",
    "    x = MaxPooling2D(pool_size=(2, 2))(x)\n",
    "    x = Conv2D(16, kernel_size=(3, 3), activation='relu')(x)\n",
    "    x = MaxPooling2D(pool_size=(2, 2))(x)\n",
    "\n",
    "    x = Flatten()(x)\n",
    "    x = Dense(120, activation='relu')(x)\n",
    "    output_layer = Dense(84, activation='relu')(x)\n",
    "    #output_layer = Dense(3, activation='softmax')(x)\n",
    "\n",
    "    model = Model(inputs=input_layer, outputs=output_layer)\n",
    "    \n",
    "\n",
    "    return model\n",
    "\n",
    "\n"
   ]
  },
  {
   "cell_type": "code",
   "execution_count": null,
   "metadata": {},
   "outputs": [],
   "source": [
    "#learning_rate=0.001\n",
    "#input_shape=(224,224,3)\n",
    "#base_model = VGG19(weights='imagenet',input_shape=input_shape,include_top=True)#,include_top=True\n",
    "#base_model.get_layer(name='predictions')\n",
    "# # Remove the original output layer (the 'predictions' layer)\n",
    "#output_layer = Dense(3, activation='softmax', name='custom_output')(base_model.layers[-1].output)\n",
    "#model = Model(inputs=base_model.input, outputs=(output_layer))\n",
    "#model.compile(optimizer=Adam(learning_rate=learning_rate), loss='categorical_crossentropy', metrics=['accuracy'])\n",
    "#model.summary()"
   ]
  },
  {
   "cell_type": "code",
   "execution_count": null,
   "metadata": {},
   "outputs": [],
   "source": [
    "def euclidean_distance(vectors):\n",
    "    feat_a, feat_b = vectors\n",
    "    squared_distance = tf.reduce_sum(tf.square(feat_a - feat_b), axis=1, keepdims=True)\n",
    "    return tf.sqrt(squared_distance)"
   ]
  },
  {
   "cell_type": "code",
   "execution_count": null,
   "metadata": {},
   "outputs": [],
   "source": [
    "input_shape=(224, 224, 1)\n",
    "branch_a= build_LeNet5_branch(input_shape)\n",
    "branch_b= build_LeNet5_branch(input_shape)\n",
    "distance_layer= Lambda(euclidean_distance)([branch_a.output,branch_b.output])#F.pairwise_distance\n",
    "output_layer= Dense(2,activation='sigmoid')(distance_layer)\n",
    "model = Model(inputs=[branch_a.input, branch_b.input], outputs=output_layer)\n",
    "model.compile(optimizer=Adam(learning_rate=0.0001), loss= 'binary_crossentropy', metrics=['accuracy'])\n",
    "model.summary()\n"
   ]
  },
  {
   "cell_type": "code",
   "execution_count": null,
   "metadata": {},
   "outputs": [],
   "source": [
    "x_train=[x_test_OI,x_test_OD]\n",
    "h=model.fit(x=x_train, y=y_train, batch_size= 1, validation_split=0.15, epochs=100,verbose=1)"
   ]
  },
  {
   "cell_type": "code",
   "execution_count": null,
   "metadata": {},
   "outputs": [],
   "source": [
    "plt.plot(np.log10(h.history['loss']))\n",
    "plt.plot(np.log10(h.history['val_loss']), 'r')\n",
    "plt.legend(['train loss', 'val loss'])"
   ]
  },
  {
   "cell_type": "code",
   "execution_count": null,
   "metadata": {},
   "outputs": [],
   "source": [
    "plt.plot(h.history['accuracy'])\n",
    "plt.plot(h.history['val_accuracy'], 'r')\n",
    "plt.legend(['train acc', 'val acc'])\n",
    "print('train acc: %.2f %% \\nval acc: %.2f %%'%(h.history['accuracy'][-1]*100,h.history['val_accuracy'][-1]*100))"
   ]
  },
  {
   "cell_type": "code",
   "execution_count": null,
   "metadata": {},
   "outputs": [],
   "source": [
    "x_test= [x_test_OI,x_test_OD]\n",
    "pred=model.predict(x_test,verbose=1)\n",
    "predicted_class_indices=np.argmax(pred,axis=1)\n",
    "predicted_class_indices"
   ]
  },
  {
   "cell_type": "code",
   "execution_count": null,
   "metadata": {},
   "outputs": [],
   "source": [
    "from sklearn.metrics import accuracy_score\n",
    "labels=df_test['Label'].astype(int).tolist()\n",
    "accuracy_score(labels,predicted_class_indices)"
   ]
  }
 ],
 "metadata": {
  "kernelspec": {
   "display_name": "Iris",
   "language": "python",
   "name": "python3"
  },
  "language_info": {
   "codemirror_mode": {
    "name": "ipython",
    "version": 3
   },
   "file_extension": ".py",
   "mimetype": "text/x-python",
   "name": "python",
   "nbconvert_exporter": "python",
   "pygments_lexer": "ipython3",
   "version": "3.10.13"
  },
  "orig_nbformat": 4
 },
 "nbformat": 4,
 "nbformat_minor": 2
}
