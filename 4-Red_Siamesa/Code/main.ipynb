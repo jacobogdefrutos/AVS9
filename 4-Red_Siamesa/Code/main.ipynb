{
 "cells": [
  {
   "cell_type": "code",
   "execution_count": 21,
   "metadata": {},
   "outputs": [],
   "source": [
    "import numpy as np\n",
    "import pandas as pd\n",
    "import tensorflow as tf\n",
    "import matplotlib.pyplot as plt\n",
    "import cv2\n",
    "import torch.nn.functional as F\n",
    "from keras.applications import VGG19\n",
    "from keras.preprocessing.image import ImageDataGenerator\n",
    "from keras.applications.vgg19 import VGG19\n",
    "from utils import to_grayscale_then_rgb\n",
    "from keras.models import Model\n",
    "from keras.layers import Input, Conv2D, MaxPooling2D, Flatten, Dense,Lambda\n",
    "from keras.optimizers import Adam,SGD\n",
    "from sklearn.model_selection import train_test_split"
   ]
  },
  {
   "cell_type": "code",
   "execution_count": 4,
   "metadata": {},
   "outputs": [],
   "source": [
    "class ContrastiveLoss:\n",
    "    def __init__(self, margin=1.0):\n",
    "        self.margin = margin\n",
    "\n",
    "    def forward(self, x0, x1, y):\n",
    "        # Euclidean distance\n",
    "        diff = x0 - x1\n",
    "        dist_sq = np.sum(np.power(diff, 2), axis=1)\n",
    "        dist = np.sqrt(dist_sq)\n",
    "\n",
    "        mdist = self.margin - dist\n",
    "        dist = np.clip(mdist, a_min=0.0, a_max=None)\n",
    "        loss = y * dist_sq + (1 - y) * np.power(dist, 2)\n",
    "        loss = np.sum(loss) / 2.0 / x0.shape[0]\n",
    "        return loss"
   ]
  },
  {
   "cell_type": "code",
   "execution_count": 9,
   "metadata": {},
   "outputs": [
    {
     "name": "stdout",
     "output_type": "stream",
     "text": [
      "Train shape:  (65, 3)\n",
      "Test shape:  (17, 3)\n"
     ]
    }
   ],
   "source": [
    "file_data_b_csv=r'/home/jacobo15defrutos/AVS9/4-Red_Siamesa/Code/total_images_RS.csv'\n",
    "df= pd.read_csv(file_data_b_csv)\n",
    "df_train, df_test = train_test_split(df, test_size=0.2,random_state=42)\n",
    "print(\"Train shape: \",df_train.shape)\n",
    "print(\"Test shape: \",df_test.shape)"
   ]
  },
  {
   "cell_type": "code",
   "execution_count": 10,
   "metadata": {},
   "outputs": [],
   "source": [
    "def fft_transform(train):\n",
    "    train_fft= np.fft.fftshift(np.fft.fft2(train))\n",
    "    train_abs=np.log(abs(train_fft))\n",
    "    train_n=cv2.normalize(train_abs,None,0, 255, cv2.NORM_MINMAX)\n",
    "    x_train=np.uint8(train_n)\n",
    "    return x_train"
   ]
  },
  {
   "cell_type": "code",
   "execution_count": 49,
   "metadata": {},
   "outputs": [],
   "source": [
    "labels_train= df_train['Label']\n",
    "train_list_OI=[]\n",
    "train_list_OD=[]\n",
    "target_size = (224, 224)\n",
    "folder= '/home/jacobo15defrutos/AVS9/Data/Total_images/'\n",
    "for name in df_train['OI']:\n",
    "    path= folder + name\n",
    "    img=cv2.imread(path,cv2.IMREAD_GRAYSCALE) #,cv2.IMREAD_GRAYSCALE\n",
    "    img= cv2.resize(img,target_size)\n",
    "    train_list_OI.append(img)\n",
    "for name in df_train['OD']:\n",
    "    path= folder + name\n",
    "    img=cv2.imread(path,cv2.IMREAD_GRAYSCALE) #,cv2.IMREAD_GRAYSCALE\n",
    "    img= cv2.resize(img,target_size)\n",
    "    train_list_OD.append(img)\n",
    "train_OI= np.array(train_list_OI)\n",
    "train_OD= np.array(train_list_OD)\n",
    "x_train_OI= fft_transform(train_OI)\n",
    "x_train_OD= fft_transform(train_OD)\n",
    "\n",
    "# Convert the original labels to one-hot encoded labels\n",
    "y_train = np.zeros((labels_train.shape[0], 3))\n",
    "y_train[np.arange(labels_train.shape[0]), labels_train] = 1\n",
    "x_train_OI= x_train_OI/255\n",
    "x_train_OD= x_train_OD/255"
   ]
  },
  {
   "cell_type": "code",
   "execution_count": 48,
   "metadata": {},
   "outputs": [
    {
     "data": {
      "text/plain": [
       "(17, 224, 224)"
      ]
     },
     "execution_count": 48,
     "metadata": {},
     "output_type": "execute_result"
    }
   ],
   "source": [
    "\n",
    "labels_test= df_test['Label']\n",
    "test_list_OI=[]\n",
    "test_list_OD=[]\n",
    "target_size = (224, 224)\n",
    "folder= '/home/jacobo15defrutos/AVS9/Data/Total_images/'\n",
    "for name in df_test['OI']:\n",
    "    path= folder + name\n",
    "    img=cv2.imread(path, cv2.IMREAD_GRAYSCALE)#, cv2.IMREAD_GRAYSCALE\n",
    "    img= cv2.resize(img,target_size)\n",
    "    test_list_OI.append(img)\n",
    "for name in df_test['OD']:\n",
    "    path= folder + name\n",
    "    img=cv2.imread(path, cv2.IMREAD_GRAYSCALE)#, cv2.IMREAD_GRAYSCALE\n",
    "    img= cv2.resize(img,target_size)\n",
    "    test_list_OD.append(img)\n",
    "test_OI= np.array(test_list_OI)\n",
    "test_OD= np.array(test_list_OD)\n",
    "\n",
    "x_test_OI= fft_transform(test_OI)\n",
    "x_test_OD= fft_transform(test_OD)\n",
    "x_test_OI= x_test_OI/255\n",
    "x_test_OD= x_test_OD/255\n",
    "# Convert the original labels to one-hot encoded labels\n",
    "y_test = np.zeros((labels_test.shape[0], 3))\n",
    "y_test[np.arange(labels_test.shape[0]), labels_test] = 1\n",
    "x_test_OI.shape\n"
   ]
  },
  {
   "cell_type": "code",
   "execution_count": 50,
   "metadata": {},
   "outputs": [],
   "source": [
    "# Definir la arquitectura de LeNet-5\n",
    "\n",
    "def build_LeNet5_branch(input_shape):\n",
    "    input_layer = Input(shape=input_shape)\n",
    "\n",
    "    x = Conv2D(6, kernel_size=(5, 5), activation='relu')(input_layer)\n",
    "    x = MaxPooling2D(pool_size=(2, 2))(x)\n",
    "    x = Conv2D(16, kernel_size=(3, 3), activation='relu')(x)\n",
    "    x = MaxPooling2D(pool_size=(2, 2))(x)\n",
    "\n",
    "    x = Flatten()(x)\n",
    "    x = Dense(120, activation='relu')(x)\n",
    "    output_layer = Dense(84, activation='relu')(x)\n",
    "    #output_layer = Dense(3, activation='softmax')(x)\n",
    "\n",
    "    model = Model(inputs=input_layer, outputs=output_layer)\n",
    "    \n",
    "\n",
    "    return model\n",
    "\n",
    "\n"
   ]
  },
  {
   "cell_type": "code",
   "execution_count": null,
   "metadata": {},
   "outputs": [],
   "source": [
    "#learning_rate=0.001\n",
    "#input_shape=(224,224,3)\n",
    "#base_model = VGG19(weights='imagenet',input_shape=input_shape,include_top=True)#,include_top=True\n",
    "#base_model.get_layer(name='predictions')\n",
    "# # Remove the original output layer (the 'predictions' layer)\n",
    "#output_layer = Dense(3, activation='softmax', name='custom_output')(base_model.layers[-1].output)\n",
    "#model = Model(inputs=base_model.input, outputs=(output_layer))\n",
    "#model.compile(optimizer=Adam(learning_rate=learning_rate), loss='categorical_crossentropy', metrics=['accuracy'])\n",
    "#model.summary()"
   ]
  },
  {
   "cell_type": "code",
   "execution_count": 51,
   "metadata": {},
   "outputs": [],
   "source": [
    "def euclidean_distance(vectors):\n",
    "    feat_a, feat_b = vectors\n",
    "    squared_distance = tf.reduce_sum(tf.square(feat_a - feat_b), axis=1, keepdims=True)\n",
    "    return tf.sqrt(squared_distance)"
   ]
  },
  {
   "cell_type": "code",
   "execution_count": 52,
   "metadata": {},
   "outputs": [
    {
     "name": "stdout",
     "output_type": "stream",
     "text": [
      "Model: \"model_22\"\n",
      "__________________________________________________________________________________________________\n",
      " Layer (type)                   Output Shape         Param #     Connected to                     \n",
      "==================================================================================================\n",
      " input_17 (InputLayer)          [(None, 224, 224, 1  0           []                               \n",
      "                                )]                                                                \n",
      "                                                                                                  \n",
      " input_18 (InputLayer)          [(None, 224, 224, 1  0           []                               \n",
      "                                )]                                                                \n",
      "                                                                                                  \n",
      " conv2d_32 (Conv2D)             (None, 220, 220, 6)  156         ['input_17[0][0]']               \n",
      "                                                                                                  \n",
      " conv2d_34 (Conv2D)             (None, 220, 220, 6)  156         ['input_18[0][0]']               \n",
      "                                                                                                  \n",
      " max_pooling2d_32 (MaxPooling2D  (None, 110, 110, 6)  0          ['conv2d_32[0][0]']              \n",
      " )                                                                                                \n",
      "                                                                                                  \n",
      " max_pooling2d_34 (MaxPooling2D  (None, 110, 110, 6)  0          ['conv2d_34[0][0]']              \n",
      " )                                                                                                \n",
      "                                                                                                  \n",
      " conv2d_33 (Conv2D)             (None, 108, 108, 16  880         ['max_pooling2d_32[0][0]']       \n",
      "                                )                                                                 \n",
      "                                                                                                  \n",
      " conv2d_35 (Conv2D)             (None, 108, 108, 16  880         ['max_pooling2d_34[0][0]']       \n",
      "                                )                                                                 \n",
      "                                                                                                  \n",
      " max_pooling2d_33 (MaxPooling2D  (None, 54, 54, 16)  0           ['conv2d_33[0][0]']              \n",
      " )                                                                                                \n",
      "                                                                                                  \n",
      " max_pooling2d_35 (MaxPooling2D  (None, 54, 54, 16)  0           ['conv2d_35[0][0]']              \n",
      " )                                                                                                \n",
      "                                                                                                  \n",
      " flatten_16 (Flatten)           (None, 46656)        0           ['max_pooling2d_33[0][0]']       \n",
      "                                                                                                  \n",
      " flatten_17 (Flatten)           (None, 46656)        0           ['max_pooling2d_35[0][0]']       \n",
      "                                                                                                  \n",
      " dense_34 (Dense)               (None, 120)          5598840     ['flatten_16[0][0]']             \n",
      "                                                                                                  \n",
      " dense_36 (Dense)               (None, 120)          5598840     ['flatten_17[0][0]']             \n",
      "                                                                                                  \n",
      " dense_35 (Dense)               (None, 84)           10164       ['dense_34[0][0]']               \n",
      "                                                                                                  \n",
      " dense_37 (Dense)               (None, 84)           10164       ['dense_36[0][0]']               \n",
      "                                                                                                  \n",
      " lambda_7 (Lambda)              (None, 1)            0           ['dense_35[0][0]',               \n",
      "                                                                  'dense_37[0][0]']               \n",
      "                                                                                                  \n",
      " dense_38 (Dense)               (None, 3)            6           ['lambda_7[0][0]']               \n",
      "                                                                                                  \n",
      "==================================================================================================\n",
      "Total params: 11,220,086\n",
      "Trainable params: 11,220,086\n",
      "Non-trainable params: 0\n",
      "__________________________________________________________________________________________________\n"
     ]
    }
   ],
   "source": [
    "input_shape=(224, 224, 1)\n",
    "loss_fn = ContrastiveLoss()\n",
    "branch_a= build_LeNet5_branch(input_shape)\n",
    "branch_b= build_LeNet5_branch(input_shape)\n",
    "distance_layer= Lambda(euclidean_distance)([branch_a.output,branch_b.output])#F.pairwise_distance\n",
    "output_layer= Dense(3,activation='softmax')(distance_layer)\n",
    "model = Model(inputs=[branch_a.input, branch_b.input], outputs=output_layer)\n",
    "model.compile(optimizer=Adam(learning_rate=0.0001), loss='categorical_crossentropy', metrics=['accuracy'])\n",
    "model.summary()\n"
   ]
  },
  {
   "cell_type": "code",
   "execution_count": 53,
   "metadata": {},
   "outputs": [
    {
     "name": "stdout",
     "output_type": "stream",
     "text": [
      "Epoch 1/20\n",
      "7/7 [==============================] - 1s 126ms/step - loss: 1.2119 - accuracy: 0.0000e+00 - val_loss: 1.1950 - val_accuracy: 0.0000e+00\n",
      "Epoch 2/20\n",
      "7/7 [==============================] - 0s 52ms/step - loss: 1.1446 - accuracy: 0.0000e+00 - val_loss: 1.1337 - val_accuracy: 0.0000e+00\n",
      "Epoch 3/20\n",
      "7/7 [==============================] - 1s 86ms/step - loss: 1.1053 - accuracy: 0.2143 - val_loss: 1.0990 - val_accuracy: 0.3333\n",
      "Epoch 4/20\n",
      "7/7 [==============================] - 0s 64ms/step - loss: 1.0989 - accuracy: 0.5714 - val_loss: 1.0978 - val_accuracy: 0.3333\n",
      "Epoch 5/20\n",
      "7/7 [==============================] - 0s 46ms/step - loss: 1.0979 - accuracy: 0.5714 - val_loss: 1.0972 - val_accuracy: 0.3333\n",
      "Epoch 6/20\n",
      "7/7 [==============================] - 0s 64ms/step - loss: 1.0965 - accuracy: 0.6429 - val_loss: 1.0970 - val_accuracy: 0.3333\n",
      "Epoch 7/20\n",
      "7/7 [==============================] - 0s 47ms/step - loss: 1.0961 - accuracy: 0.6429 - val_loss: 1.0967 - val_accuracy: 0.3333\n",
      "Epoch 8/20\n",
      "7/7 [==============================] - 1s 96ms/step - loss: 1.0958 - accuracy: 0.6429 - val_loss: 1.0965 - val_accuracy: 0.3333\n",
      "Epoch 9/20\n",
      "7/7 [==============================] - 0s 54ms/step - loss: 1.0954 - accuracy: 0.6429 - val_loss: 1.0963 - val_accuracy: 0.3333\n",
      "Epoch 10/20\n",
      "7/7 [==============================] - 1s 78ms/step - loss: 1.0950 - accuracy: 0.6429 - val_loss: 1.0960 - val_accuracy: 0.3333\n",
      "Epoch 11/20\n",
      "7/7 [==============================] - 0s 54ms/step - loss: 1.0947 - accuracy: 0.6429 - val_loss: 1.0958 - val_accuracy: 0.3333\n",
      "Epoch 12/20\n",
      "7/7 [==============================] - 0s 67ms/step - loss: 1.0943 - accuracy: 0.6429 - val_loss: 1.0956 - val_accuracy: 0.3333\n",
      "Epoch 13/20\n",
      "7/7 [==============================] - 0s 60ms/step - loss: 1.0939 - accuracy: 0.6429 - val_loss: 1.0953 - val_accuracy: 0.3333\n",
      "Epoch 14/20\n",
      "7/7 [==============================] - 0s 60ms/step - loss: 1.0935 - accuracy: 0.6429 - val_loss: 1.0951 - val_accuracy: 0.3333\n",
      "Epoch 15/20\n",
      "7/7 [==============================] - 0s 53ms/step - loss: 1.0932 - accuracy: 0.6429 - val_loss: 1.0949 - val_accuracy: 0.3333\n",
      "Epoch 16/20\n",
      "7/7 [==============================] - 0s 47ms/step - loss: 1.0928 - accuracy: 0.6429 - val_loss: 1.0946 - val_accuracy: 0.3333\n",
      "Epoch 17/20\n",
      "7/7 [==============================] - 0s 52ms/step - loss: 1.0924 - accuracy: 0.6429 - val_loss: 1.0943 - val_accuracy: 0.3333\n",
      "Epoch 18/20\n",
      "7/7 [==============================] - 0s 60ms/step - loss: 1.0921 - accuracy: 0.6429 - val_loss: 1.0941 - val_accuracy: 0.3333\n",
      "Epoch 19/20\n",
      "7/7 [==============================] - 0s 53ms/step - loss: 1.0917 - accuracy: 0.6429 - val_loss: 1.0939 - val_accuracy: 0.3333\n",
      "Epoch 20/20\n",
      "7/7 [==============================] - 0s 65ms/step - loss: 1.0913 - accuracy: 0.6429 - val_loss: 1.0936 - val_accuracy: 0.3333\n"
     ]
    }
   ],
   "source": [
    "x_train=[x_test_OI,x_test_OD]\n",
    "h=model.fit(x=x_train, y=y_train, batch_size= 2, validation_split=0.15, epochs=20,verbose=1)"
   ]
  },
  {
   "cell_type": "code",
   "execution_count": 54,
   "metadata": {},
   "outputs": [
    {
     "data": {
      "text/plain": [
       "<matplotlib.legend.Legend at 0x7fd123636680>"
      ]
     },
     "execution_count": 54,
     "metadata": {},
     "output_type": "execute_result"
    },
    {
     "data": {
      "image/png": "[encoded data removed]",
      "text/plain": [
       "<Figure size 640x480 with 1 Axes>"
      ]
     },
     "metadata": {},
     "output_type": "display_data"
    }
   ],
   "source": [
    "plt.plot(np.log10(h.history['loss']))\n",
    "plt.plot(np.log10(h.history['val_loss']), 'r')\n",
    "plt.legend(['train loss', 'val loss'])"
   ]
  },
  {
   "cell_type": "code",
   "execution_count": 55,
   "metadata": {},
   "outputs": [
    {
     "name": "stdout",
     "output_type": "stream",
     "text": [
      "train acc: 64.29 % \n",
      "val acc: 33.33 %\n"
     ]
    },
    {
     "data": {
      "image/png": "[encoded data removed]",
      "text/plain": [
       "<Figure size 640x480 with 1 Axes>"
      ]
     },
     "metadata": {},
     "output_type": "display_data"
    }
   ],
   "source": [
    "plt.plot(h.history['accuracy'])\n",
    "plt.plot(h.history['val_accuracy'], 'r')\n",
    "plt.legend(['train acc', 'val acc'])\n",
    "print('train acc: %.2f %% \\nval acc: %.2f %%'%(h.history['accuracy'][-1]*100,h.history['val_accuracy'][-1]*100))"
   ]
  },
  {
   "cell_type": "code",
   "execution_count": 43,
   "metadata": {},
   "outputs": [
    {
     "name": "stdout",
     "output_type": "stream",
     "text": [
      "1/1 [==============================] - 0s 137ms/step\n"
     ]
    },
    {
     "data": {
      "text/plain": [
       "array([1, 1, 1, 1, 1, 1, 1, 1, 1, 1, 1, 1, 1, 1, 1, 1, 1])"
      ]
     },
     "execution_count": 43,
     "metadata": {},
     "output_type": "execute_result"
    }
   ],
   "source": [
    "x_test= [x_test_OI,x_test_OD]\n",
    "pred=model.predict(x_test,verbose=1)\n",
    "predicted_class_indices=np.argmax(pred,axis=1)\n",
    "predicted_class_indices"
   ]
  },
  {
   "cell_type": "code",
   "execution_count": null,
   "metadata": {},
   "outputs": [],
   "source": [
    "from sklearn.metrics import accuracy_score\n",
    "labels=df_test['Label'].astype(int).tolist()\n",
    "accuracy_score(labels,predicted_class_indices)"
   ]
  }
 ],
 "metadata": {
  "kernelspec": {
   "display_name": "Iris",
   "language": "python",
   "name": "python3"
  },
  "language_info": {
   "codemirror_mode": {
    "name": "ipython",
    "version": 3
   },
   "file_extension": ".py",
   "mimetype": "text/x-python",
   "name": "python",
   "nbconvert_exporter": "python",
   "pygments_lexer": "ipython3",
   "version": "3.10.13"
  },
  "orig_nbformat": 4
 },
 "nbformat": 4,
 "nbformat_minor": 2
}
