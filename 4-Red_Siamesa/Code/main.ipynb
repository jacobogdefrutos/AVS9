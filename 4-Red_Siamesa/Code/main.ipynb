{
 "cells": [
  {
   "cell_type": "code",
   "execution_count": null,
   "metadata": {},
   "outputs": [],
   "source": [
    "import numpy as np\n",
    "import pandas as pd\n",
    "import tensorflow as tf\n",
    "import matplotlib.pyplot as plt\n",
    "from keras.applications import VGG19\n",
    "from keras.preprocessing.image import ImageDataGenerator\n",
    "from keras.applications.vgg19 import VGG19\n",
    "from utils import to_grayscale_then_rgb\n",
    "from keras.models import Model\n",
    "from keras.layers import Input, Conv2D, MaxPooling2D, Flatten, Dense\n",
    "from keras.optimizers import Adam,SGD"
   ]
  },
  {
   "cell_type": "code",
   "execution_count": null,
   "metadata": {},
   "outputs": [],
   "source": [
    "file_train_b_csv='..\\Iris_train_basic_seg_list.csv'\n",
    "df_train_basic= pd.read_csv(file_train_b_csv)\n",
    "datagen=ImageDataGenerator(rescale=1./255.)#,preprocessing_function=to_grayscale_then_rgb)\n",
    "df_train_basic['Label']= df_train_basic['Label'].astype(str)\n",
    "df_train_basic\n"
   ]
  },
  {
   "cell_type": "code",
   "execution_count": null,
   "metadata": {},
   "outputs": [],
   "source": [
    "file_val_csv='..\\Iris_val_basic_seg_list.csv'\n",
    "df_val= pd.read_csv(file_val_csv)\n",
    "df_val['Label']= df_val['Label'].astype(str)\n"
   ]
  },
  {
   "cell_type": "code",
   "execution_count": null,
   "metadata": {},
   "outputs": [],
   "source": [
    "\n",
    "train_generator = datagen.flow_from_dataframe(\n",
    "    dataframe=df_train_basic,\n",
    "    directory=r\"D:\\Users\\jacob\\AVS9\\Data\\saved_seg_class_images\\train_basic\",\n",
    "    x_col=\"Name\",\n",
    "    y_col=\"Label\",\n",
    "    batch_size=10,\n",
    "    seed=42,\n",
    "    shuffle=True,\n",
    "    class_mode=\"categorical\",\n",
    "    target_size=(224, 224))#540,810\n"
   ]
  },
  {
   "cell_type": "code",
   "execution_count": null,
   "metadata": {},
   "outputs": [],
   "source": [
    "val_generator = datagen.flow_from_dataframe(\n",
    "    dataframe=df_val,\n",
    "    directory=r\"D:\\Users\\jacob\\AVS9\\Data\\saved_seg_class_images\\val\",\n",
    "    x_col=\"Name\",\n",
    "    y_col=\"Label\",\n",
    "    batch_size=10,\n",
    "    seed=42,\n",
    "    shuffle=True,\n",
    "    class_mode=\"categorical\",\n",
    "    target_size=(224, 224))\n"
   ]
  },
  {
   "cell_type": "code",
   "execution_count": null,
   "metadata": {},
   "outputs": [],
   "source": [
    "file_test_csv='..\\Iris_test_basic_seg_list.csv'\n",
    "df_test= pd.read_csv(file_test_csv)\n",
    "df_test['Label']= df_test['Label'].astype(str)\n",
    "test_generator = datagen.flow_from_dataframe(\n",
    "    dataframe=df_test,\n",
    "    directory=r\"D:\\Users\\jacob\\AVS9\\Data\\saved_seg_class_images\\test\",\n",
    "    x_col=\"Name\",\n",
    "    y_col=\"Label\",\n",
    "    batch_size=1,\n",
    "    seed=42,\n",
    "    shuffle=False,\n",
    "    class_mode=None,\n",
    "    target_size=(224, 224))"
   ]
  },
  {
   "cell_type": "code",
   "execution_count": null,
   "metadata": {},
   "outputs": [],
   "source": [
    "# Definir la arquitectura de LeNet-5\n",
    "input_shape=(224, 224, 1)\n",
    "\n",
    "def build_LeNet5(input_shape, learning_ratea=0.001):\n",
    "    input_layer = Input(shape=input_shape)\n",
    "\n",
    "    x = Conv2D(6, kernel_size=(5, 5), activation='relu')(input_layer)\n",
    "    x = MaxPooling2D(pool_size=(2, 2))(x)\n",
    "    x = Conv2D(16, kernel_size=(5, 5), activation='relu')(x)\n",
    "    x = MaxPooling2D(pool_size=(2, 2))(x)\n",
    "\n",
    "    x = Flatten()(x)\n",
    "    x = Dense(120, activation='relu')(x)\n",
    "    x = Dense(84, activation='relu')(x)\n",
    "    output_layer = Dense(2, activation='sigmoid')(x)\n",
    "\n",
    "    model = Model(inputs=input_layer, outputs=output_layer)\n",
    "    model.compile(optimizer=Adam(learning_rate=learning_ratea), loss='binary_crossentropy', metrics=['accuracy'])\n",
    "\n",
    "    return model\n",
    "\n",
    "model=build_LeNet5(input_shape,0.0001)\n",
    "\n",
    "model.summary()\n"
   ]
  },
  {
   "cell_type": "code",
   "execution_count": null,
   "metadata": {},
   "outputs": [],
   "source": [
    "learning_rate=0.001\n",
    "input_shape=(224,224,3)\n",
    "base_model = VGG19(weights='imagenet',input_shape=input_shape,include_top=True)\n",
    "#base_model.get_layer(name='predictions')\n",
    "# # Remove the original output layer (the 'predictions' layer)\n",
    "output_layer = Dense(2, activation='sigmoid', name='custom_output')(base_model.layers[-2].output)\n",
    "model = Model(inputs=base_model.input, outputs=(output_layer))\n",
    "model.compile(optimizer=Adam(learning_rate=learning_rate), loss='binary_crossentropy', metrics=['accuracy'])\n",
    "model.summary()"
   ]
  },
  {
   "cell_type": "code",
   "execution_count": null,
   "metadata": {},
   "outputs": [],
   "source": [
    "STEP_SIZE_TRAIN=train_generator.n//train_generator.batch_size\n",
    "STEP_SIZE_VALID=val_generator.n//val_generator.batch_size\n",
    "STEP_SIZE_TEST=test_generator.n//test_generator.batch_size\n",
    "#model.reset_states()"
   ]
  },
  {
   "cell_type": "code",
   "execution_count": null,
   "metadata": {},
   "outputs": [],
   "source": [
    "hist=model.fit(x=train_generator, steps_per_epoch=STEP_SIZE_TRAIN, validation_data=val_generator, \n",
    "                    validation_steps=STEP_SIZE_VALID,\n",
    "                    epochs=20,verbose=1)"
   ]
  },
  {
   "cell_type": "code",
   "execution_count": null,
   "metadata": {},
   "outputs": [],
   "source": [
    "test_generator.reset()\n",
    "pred=model.predict(test_generator,\n",
    "steps=STEP_SIZE_TEST,\n",
    "verbose=1)\n",
    "predicted_class_indices=np.argmax(pred,axis=1)\n",
    "predicted_class_indices"
   ]
  },
  {
   "cell_type": "code",
   "execution_count": null,
   "metadata": {},
   "outputs": [],
   "source": [
    "from sklearn.metrics import accuracy_score\n",
    "labels=df_test['Label'].astype(int).tolist()\n",
    "accuracy_score(labels,predicted_class_indices)"
   ]
  }
 ],
 "metadata": {
  "kernelspec": {
   "display_name": "Iris",
   "language": "python",
   "name": "python3"
  },
  "language_info": {
   "codemirror_mode": {
    "name": "ipython",
    "version": 3
   },
   "file_extension": ".py",
   "mimetype": "text/x-python",
   "name": "python",
   "nbconvert_exporter": "python",
   "pygments_lexer": "ipython3",
   "version": "3.10.13"
  },
  "orig_nbformat": 4
 },
 "nbformat": 4,
 "nbformat_minor": 2
}
