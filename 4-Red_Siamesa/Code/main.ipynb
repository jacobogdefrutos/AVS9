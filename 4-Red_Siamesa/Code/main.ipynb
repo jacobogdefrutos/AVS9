{
 "cells": [
  {
   "cell_type": "code",
   "execution_count": 3,
   "metadata": {},
   "outputs": [],
   "source": [
    "import numpy as np\n",
    "import pandas as pd\n",
    "import tensorflow as tf\n",
    "import matplotlib.pyplot as plt\n",
    "import cv2\n",
    "from keras.applications import VGG19\n",
    "from keras.preprocessing.image import ImageDataGenerator\n",
    "from keras.applications.vgg19 import VGG19\n",
    "from utils import to_grayscale_then_rgb\n",
    "from keras.models import Model\n",
    "from keras.layers import Input, Conv2D, MaxPooling2D, Flatten, Dense\n",
    "from keras.optimizers import Adam,SGD\n",
    "from sklearn.model_selection import train_test_split"
   ]
  },
  {
   "cell_type": "code",
   "execution_count": 4,
   "metadata": {},
   "outputs": [],
   "source": [
    "class ContrastiveLoss:\n",
    "    def __init__(self, margin=1.0):\n",
    "        self.margin = margin\n",
    "\n",
    "    def forward(self, x0, x1, y):\n",
    "        # Euclidean distance\n",
    "        diff = x0 - x1\n",
    "        dist_sq = np.sum(np.power(diff, 2), axis=1)\n",
    "        dist = np.sqrt(dist_sq)\n",
    "\n",
    "        mdist = self.margin - dist\n",
    "        dist = np.clip(mdist, a_min=0.0, a_max=None)\n",
    "        loss = y * dist_sq + (1 - y) * np.power(dist, 2)\n",
    "        loss = np.sum(loss) / 2.0 / x0.shape[0]\n",
    "        return loss"
   ]
  },
  {
   "cell_type": "code",
   "execution_count": 5,
   "metadata": {},
   "outputs": [
    {
     "name": "stdout",
     "output_type": "stream",
     "text": [
      "Train shape:  (228, 2)\n",
      "Test shape:  (57, 2)\n"
     ]
    }
   ],
   "source": [
    "file_data_b_csv=r'/home/jacobo15defrutos/AVS9/4-Red_Siamesa/total_imgs.csv'\n",
    "df= pd.read_csv(file_data_b_csv)\n",
    "df_train, df_test = train_test_split(df, test_size=0.2,random_state=42)\n",
    "print(\"Train shape: \",df_train.shape)\n",
    "print(\"Test shape: \",df_test.shape)\n"
   ]
  },
  {
   "cell_type": "code",
   "execution_count": 6,
   "metadata": {},
   "outputs": [
    {
     "name": "stderr",
     "output_type": "stream",
     "text": [
      "/tmp/ipykernel_43884/1756429171.py:13: RuntimeWarning: divide by zero encountered in log\n",
      "  train_abs=np.log(abs(train_fft))\n"
     ]
    }
   ],
   "source": [
    "labels_train= df_train['Label']\n",
    "train_list=[]\n",
    "target_size = (224, 224)\n",
    "folder= '/home/jacobo15defrutos/AVS9/5-Pruebas/Total_images/'\n",
    "for name in df_train['Name']:\n",
    "    path= folder + name\n",
    "    img=cv2.imread(path) #,cv2.IMREAD_GRAYSCALE\n",
    "    img= cv2.resize(img,target_size)\n",
    "    train_list.append(img)\n",
    "train= np.array(train_list)\n",
    "\n",
    "train_fft= np.fft.fftshift(np.fft.fft2(train))\n",
    "train_abs=np.log(abs(train_fft))\n",
    "train_n=cv2.normalize(train_abs,None,0, 255, cv2.NORM_MINMAX)\n",
    "x_train=np.uint8(train_n)\n",
    "# Convert the original labels to one-hot encoded labels\n",
    "y_train = np.zeros((labels_train.shape[0], 3))\n",
    "y_train[np.arange(labels_train.shape[0]), labels_train] = 1"
   ]
  },
  {
   "cell_type": "code",
   "execution_count": null,
   "metadata": {},
   "outputs": [],
   "source": [
    "\n",
    "labels_test= df_test['Label']\n",
    "test_list=[]\n",
    "target_size = (224, 224)\n",
    "folder= '/home/jacobo15defrutos/AVS9/5-Pruebas/Total_images/'\n",
    "for name in df_test['Name']:\n",
    "    path= folder + name\n",
    "    img=cv2.imread(path)#, cv2.IMREAD_GRAYSCALE\n",
    "    img= cv2.resize(img,target_size)\n",
    "    test_list.append(img)\n",
    "test= np.array(test_list)\n",
    "test_fft= np.fft.fftshift(np.fft.fft2(test))\n",
    "test_abs=np.log(abs(test_fft))\n",
    "test_n=cv2.normalize(test_abs,None,0, 255, cv2.NORM_MINMAX)\n",
    "x_test=np.uint8(test_n)\n",
    "# Convert the original labels to one-hot encoded labels\n",
    "y_test = np.zeros((labels_test.shape[0], 3))\n",
    "y_test[np.arange(labels_test.shape[0]), labels_test] = 1\n"
   ]
  },
  {
   "cell_type": "code",
   "execution_count": null,
   "metadata": {},
   "outputs": [],
   "source": [
    "# Definir la arquitectura de LeNet-5\n",
    "input_shape=(224, 224, 1)\n",
    "loss_fn = ContrastiveLoss()\n",
    "def build_LeNet5(input_shape, learning_ratea=0.001):\n",
    "    input_layer = Input(shape=input_shape)\n",
    "\n",
    "    x = Conv2D(6, kernel_size=(5, 5), activation='relu')(input_layer)\n",
    "    x = MaxPooling2D(pool_size=(2, 2))(x)\n",
    "    x = Conv2D(16, kernel_size=(5, 5), activation='relu')(x)\n",
    "    x = MaxPooling2D(pool_size=(2, 2))(x)\n",
    "\n",
    "    x = Flatten()(x)\n",
    "    x = Dense(120, activation='relu')(x)\n",
    "    output_layer = Dense(84, activation='relu')(x)\n",
    "    #output_layer = Dense(3, activation='softmax')(x)\n",
    "\n",
    "    model = Model(inputs=input_layer, outputs=output_layer)\n",
    "    model.compile(optimizer=Adam(learning_rate=learning_ratea), loss=loss_fn, metrics=['accuracy'])\n",
    "\n",
    "    return model\n",
    "\n",
    "model=build_LeNet5(input_shape,0.001)\n",
    "\n",
    "model.summary()\n"
   ]
  },
  {
   "cell_type": "code",
   "execution_count": null,
   "metadata": {},
   "outputs": [],
   "source": [
    "learning_rate=0.001\n",
    "input_shape=(224,224,3)\n",
    "base_model = VGG19(weights='imagenet',input_shape=input_shape,include_top=True)#,include_top=True\n",
    "#base_model.get_layer(name='predictions')\n",
    "# # Remove the original output layer (the 'predictions' layer)\n",
    "output_layer = Dense(3, activation='softmax', name='custom_output')(base_model.layers[-1].output)\n",
    "model = Model(inputs=base_model.input, outputs=(output_layer))\n",
    "model.compile(optimizer=Adam(learning_rate=learning_rate), loss='categorical_crossentropy', metrics=['accuracy'])\n",
    "model.summary()"
   ]
  },
  {
   "cell_type": "code",
   "execution_count": null,
   "metadata": {},
   "outputs": [],
   "source": [
    "hist=model.fit(x=x_train, y=y_train, batch_size= 10, validation_split=0.15, epochs=20,verbose=1)"
   ]
  },
  {
   "cell_type": "code",
   "execution_count": null,
   "metadata": {},
   "outputs": [],
   "source": [
    "plt.plot(np.log10(h.history['loss']))\n",
    "plt.plot(np.log10(h.history['val_loss']), 'r')\n",
    "plt.legend(['train loss', 'val loss'])"
   ]
  },
  {
   "cell_type": "code",
   "execution_count": null,
   "metadata": {},
   "outputs": [],
   "source": [
    "plt.plot(h.history['accuracy'])\n",
    "plt.plot(h.history['val_accuracy'], 'r')\n",
    "plt.legend(['train acc', 'val acc'])\n",
    "print('train acc: %.2f %% \\nval acc: %.2f %%'%(h.history['accuracy'][-1]*100,h.history['val_accuracy'][-1]*100))"
   ]
  },
  {
   "cell_type": "code",
   "execution_count": null,
   "metadata": {},
   "outputs": [],
   "source": [
    "pred=model.predict(x_test,verbose=1)\n",
    "predicted_class_indices=np.argmax(pred,axis=1)\n",
    "predicted_class_indices"
   ]
  },
  {
   "cell_type": "code",
   "execution_count": null,
   "metadata": {},
   "outputs": [],
   "source": [
    "from sklearn.metrics import accuracy_score\n",
    "labels=df_test['Label'].astype(int).tolist()\n",
    "accuracy_score(labels,predicted_class_indices)"
   ]
  }
 ],
 "metadata": {
  "kernelspec": {
   "display_name": "Iris",
   "language": "python",
   "name": "python3"
  },
  "language_info": {
   "codemirror_mode": {
    "name": "ipython",
    "version": 3
   },
   "file_extension": ".py",
   "mimetype": "text/x-python",
   "name": "python",
   "nbconvert_exporter": "python",
   "pygments_lexer": "ipython3",
   "version": "3.10.13"
  },
  "orig_nbformat": 4
 },
 "nbformat": 4,
 "nbformat_minor": 2
}
