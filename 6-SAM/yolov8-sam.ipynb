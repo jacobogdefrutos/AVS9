{
 "cells": [
  {
   "cell_type": "code",
   "execution_count": 1,
   "metadata": {},
   "outputs": [],
   "source": [
    "from ultralytics import YOLO,SAM\n",
    "import numpy as np\n",
    "import torch\n",
    "import cv2"
   ]
  },
  {
   "cell_type": "code",
   "execution_count": 2,
   "metadata": {},
   "outputs": [],
   "source": [
    "model_yolo = YOLO(\"/home/jacobo15defrutos/AVS9/6-SAM/saved_best_model/best.pt\")"
   ]
  },
  {
   "cell_type": "code",
   "execution_count": 3,
   "metadata": {},
   "outputs": [
    {
     "name": "stderr",
     "output_type": "stream",
     "text": [
      "\n",
      "image 1/72 /home/jacobo15defrutos/AVS9/Data/Data_seg_SAM/train/images/Captura_de_pantalla_(10).png: 800x800 2 iriss, 2539.7ms\n",
      "image 2/72 /home/jacobo15defrutos/AVS9/Data/Data_seg_SAM/train/images/Captura_de_pantalla_(100).png: 800x800 2 iriss, 2236.3ms\n",
      "image 3/72 /home/jacobo15defrutos/AVS9/Data/Data_seg_SAM/train/images/Captura_de_pantalla_(101).png: 800x800 2 iriss, 2460.9ms\n",
      "image 4/72 /home/jacobo15defrutos/AVS9/Data/Data_seg_SAM/train/images/Captura_de_pantalla_(103).png: 800x800 1 iris, 1727.7ms\n",
      "image 5/72 /home/jacobo15defrutos/AVS9/Data/Data_seg_SAM/train/images/Captura_de_pantalla_(104).png: 800x800 2 iriss, 2599.2ms\n",
      "image 6/72 /home/jacobo15defrutos/AVS9/Data/Data_seg_SAM/train/images/Captura_de_pantalla_(105).png: 800x800 3 iriss, 2653.7ms\n",
      "image 7/72 /home/jacobo15defrutos/AVS9/Data/Data_seg_SAM/train/images/Captura_de_pantalla_(106).png: 800x800 (no detections), 2305.2ms\n",
      "image 8/72 /home/jacobo15defrutos/AVS9/Data/Data_seg_SAM/train/images/Captura_de_pantalla_(107).png: 800x800 1 iris, 2992.4ms\n",
      "image 9/72 /home/jacobo15defrutos/AVS9/Data/Data_seg_SAM/train/images/Captura_de_pantalla_(108).png: 800x800 2 iriss, 2511.1ms\n",
      "image 10/72 /home/jacobo15defrutos/AVS9/Data/Data_seg_SAM/train/images/Captura_de_pantalla_(109).png: 800x800 1 iris, 1825.9ms\n",
      "image 11/72 /home/jacobo15defrutos/AVS9/Data/Data_seg_SAM/train/images/Captura_de_pantalla_(11).png: 800x800 2 iriss, 1916.8ms\n",
      "image 12/72 /home/jacobo15defrutos/AVS9/Data/Data_seg_SAM/train/images/Captura_de_pantalla_(110).png: 800x800 2 iriss, 1822.4ms\n",
      "image 13/72 /home/jacobo15defrutos/AVS9/Data/Data_seg_SAM/train/images/Captura_de_pantalla_(111).png: 800x800 1 iris, 1990.6ms\n",
      "image 14/72 /home/jacobo15defrutos/AVS9/Data/Data_seg_SAM/train/images/Captura_de_pantalla_(112).png: 800x800 2 iriss, 2003.6ms\n",
      "image 15/72 /home/jacobo15defrutos/AVS9/Data/Data_seg_SAM/train/images/Captura_de_pantalla_(113).png: 800x800 1 iris, 2116.7ms\n",
      "image 16/72 /home/jacobo15defrutos/AVS9/Data/Data_seg_SAM/train/images/Captura_de_pantalla_(114).png: 800x800 2 iriss, 2004.8ms\n",
      "image 17/72 /home/jacobo15defrutos/AVS9/Data/Data_seg_SAM/train/images/Captura_de_pantalla_(115).png: 800x800 (no detections), 1820.1ms\n",
      "image 18/72 /home/jacobo15defrutos/AVS9/Data/Data_seg_SAM/train/images/Captura_de_pantalla_(116).png: 800x800 2 iriss, 2407.7ms\n",
      "image 19/72 /home/jacobo15defrutos/AVS9/Data/Data_seg_SAM/train/images/Captura_de_pantalla_(117).png: 800x800 (no detections), 2376.8ms\n",
      "image 20/72 /home/jacobo15defrutos/AVS9/Data/Data_seg_SAM/train/images/Captura_de_pantalla_(118).png: 800x800 2 iriss, 2261.3ms\n",
      "image 21/72 /home/jacobo15defrutos/AVS9/Data/Data_seg_SAM/train/images/Captura_de_pantalla_(12).png: 800x800 1 iris, 1824.5ms\n",
      "image 22/72 /home/jacobo15defrutos/AVS9/Data/Data_seg_SAM/train/images/Captura_de_pantalla_(13).png: 800x800 2 iriss, 1963.6ms\n",
      "image 23/72 /home/jacobo15defrutos/AVS9/Data/Data_seg_SAM/train/images/Captura_de_pantalla_(14).png: 800x800 1 iris, 1749.8ms\n",
      "image 24/72 /home/jacobo15defrutos/AVS9/Data/Data_seg_SAM/train/images/Captura_de_pantalla_(15).png: 800x800 2 iriss, 2246.5ms\n",
      "image 25/72 /home/jacobo15defrutos/AVS9/Data/Data_seg_SAM/train/images/Captura_de_pantalla_(16).png: 800x800 1 iris, 1969.0ms\n",
      "image 26/72 /home/jacobo15defrutos/AVS9/Data/Data_seg_SAM/train/images/Captura_de_pantalla_(17).png: 800x800 1 iris, 1091.0ms\n",
      "image 27/72 /home/jacobo15defrutos/AVS9/Data/Data_seg_SAM/train/images/Captura_de_pantalla_(18).png: 800x800 2 iriss, 2044.4ms\n",
      "image 28/72 /home/jacobo15defrutos/AVS9/Data/Data_seg_SAM/train/images/Captura_de_pantalla_(19).png: 800x800 2 iriss, 1579.3ms\n",
      "image 29/72 /home/jacobo15defrutos/AVS9/Data/Data_seg_SAM/train/images/Captura_de_pantalla_(2).png: 800x800 1 iris, 2139.3ms\n",
      "image 30/72 /home/jacobo15defrutos/AVS9/Data/Data_seg_SAM/train/images/Captura_de_pantalla_(20).png: 800x800 2 iriss, 2042.0ms\n",
      "image 31/72 /home/jacobo15defrutos/AVS9/Data/Data_seg_SAM/train/images/Captura_de_pantalla_(21).png: 800x800 1 iris, 2316.1ms\n",
      "image 32/72 /home/jacobo15defrutos/AVS9/Data/Data_seg_SAM/train/images/Captura_de_pantalla_(24).png: 800x800 4 iriss, 1742.6ms\n",
      "image 33/72 /home/jacobo15defrutos/AVS9/Data/Data_seg_SAM/train/images/Captura_de_pantalla_(25).png: 800x800 (no detections), 2448.8ms\n",
      "image 34/72 /home/jacobo15defrutos/AVS9/Data/Data_seg_SAM/train/images/Captura_de_pantalla_(26).png: 800x800 1 iris, 2126.3ms\n",
      "image 35/72 /home/jacobo15defrutos/AVS9/Data/Data_seg_SAM/train/images/Captura_de_pantalla_(27).png: 800x800 2 iriss, 1745.6ms\n",
      "image 36/72 /home/jacobo15defrutos/AVS9/Data/Data_seg_SAM/train/images/Captura_de_pantalla_(29).png: 800x800 1 iris, 1873.0ms\n",
      "image 37/72 /home/jacobo15defrutos/AVS9/Data/Data_seg_SAM/train/images/Captura_de_pantalla_(3).png: 800x800 2 iriss, 1755.3ms\n",
      "image 38/72 /home/jacobo15defrutos/AVS9/Data/Data_seg_SAM/train/images/Captura_de_pantalla_(30).png: 800x800 2 iriss, 1802.9ms\n",
      "image 39/72 /home/jacobo15defrutos/AVS9/Data/Data_seg_SAM/train/images/Captura_de_pantalla_(31).png: 800x800 2 iriss, 2052.3ms\n",
      "image 40/72 /home/jacobo15defrutos/AVS9/Data/Data_seg_SAM/train/images/Captura_de_pantalla_(33).png: 800x800 1 iris, 2237.0ms\n",
      "image 41/72 /home/jacobo15defrutos/AVS9/Data/Data_seg_SAM/train/images/Captura_de_pantalla_(34).png: 800x800 1 iris, 2104.1ms\n",
      "image 42/72 /home/jacobo15defrutos/AVS9/Data/Data_seg_SAM/train/images/Captura_de_pantalla_(35).png: 800x800 1 iris, 2628.5ms\n",
      "image 43/72 /home/jacobo15defrutos/AVS9/Data/Data_seg_SAM/train/images/Captura_de_pantalla_(36).png: 800x800 1 iris, 1785.5ms\n",
      "image 44/72 /home/jacobo15defrutos/AVS9/Data/Data_seg_SAM/train/images/Captura_de_pantalla_(37).png: 800x800 2 iriss, 2036.3ms\n",
      "image 45/72 /home/jacobo15defrutos/AVS9/Data/Data_seg_SAM/train/images/Captura_de_pantalla_(38).png: 800x800 2 iriss, 1986.2ms\n",
      "image 46/72 /home/jacobo15defrutos/AVS9/Data/Data_seg_SAM/train/images/Captura_de_pantalla_(39).png: 800x800 2 iriss, 1893.0ms\n",
      "image 47/72 /home/jacobo15defrutos/AVS9/Data/Data_seg_SAM/train/images/Captura_de_pantalla_(4).png: 800x800 1 iris, 1425.5ms\n",
      "image 48/72 /home/jacobo15defrutos/AVS9/Data/Data_seg_SAM/train/images/Captura_de_pantalla_(40).png: 800x800 1 iris, 2085.5ms\n",
      "image 49/72 /home/jacobo15defrutos/AVS9/Data/Data_seg_SAM/train/images/Captura_de_pantalla_(41).png: 800x800 1 iris, 1927.1ms\n",
      "image 50/72 /home/jacobo15defrutos/AVS9/Data/Data_seg_SAM/train/images/Captura_de_pantalla_(43).png: 800x800 2 iriss, 1793.4ms\n",
      "image 51/72 /home/jacobo15defrutos/AVS9/Data/Data_seg_SAM/train/images/Captura_de_pantalla_(44).png: 800x800 1 iris, 1690.7ms\n",
      "image 52/72 /home/jacobo15defrutos/AVS9/Data/Data_seg_SAM/train/images/Captura_de_pantalla_(45).png: 800x800 1 iris, 2217.7ms\n",
      "image 53/72 /home/jacobo15defrutos/AVS9/Data/Data_seg_SAM/train/images/Captura_de_pantalla_(46).png: 800x800 1 iris, 1697.9ms\n",
      "image 54/72 /home/jacobo15defrutos/AVS9/Data/Data_seg_SAM/train/images/Captura_de_pantalla_(47).png: 800x800 1 iris, 1459.4ms\n",
      "image 55/72 /home/jacobo15defrutos/AVS9/Data/Data_seg_SAM/train/images/Captura_de_pantalla_(48).png: 800x800 2 iriss, 1961.5ms\n",
      "image 56/72 /home/jacobo15defrutos/AVS9/Data/Data_seg_SAM/train/images/Captura_de_pantalla_(49).png: 800x800 2 iriss, 1672.0ms\n",
      "image 57/72 /home/jacobo15defrutos/AVS9/Data/Data_seg_SAM/train/images/Captura_de_pantalla_(5).png: 800x800 2 iriss, 1750.6ms\n",
      "image 58/72 /home/jacobo15defrutos/AVS9/Data/Data_seg_SAM/train/images/Captura_de_pantalla_(50).png: 800x800 1 iris, 1601.2ms\n",
      "image 59/72 /home/jacobo15defrutos/AVS9/Data/Data_seg_SAM/train/images/Captura_de_pantalla_(51).png: 800x800 1 iris, 1828.7ms\n",
      "image 60/72 /home/jacobo15defrutos/AVS9/Data/Data_seg_SAM/train/images/Captura_de_pantalla_(54).png: 800x800 1 iris, 1414.1ms\n",
      "image 61/72 /home/jacobo15defrutos/AVS9/Data/Data_seg_SAM/train/images/Captura_de_pantalla_(55).png: 800x800 1 iris, 2262.3ms\n",
      "image 62/72 /home/jacobo15defrutos/AVS9/Data/Data_seg_SAM/train/images/Captura_de_pantalla_(56).png: 800x800 (no detections), 2186.6ms\n",
      "image 63/72 /home/jacobo15defrutos/AVS9/Data/Data_seg_SAM/train/images/Captura_de_pantalla_(57).png: 800x800 1 iris, 1606.1ms\n",
      "image 64/72 /home/jacobo15defrutos/AVS9/Data/Data_seg_SAM/train/images/Captura_de_pantalla_(6).png: 800x800 3 iriss, 977.5ms\n",
      "image 65/72 /home/jacobo15defrutos/AVS9/Data/Data_seg_SAM/train/images/Captura_de_pantalla_(61).png: 800x800 1 iris, 1277.2ms\n",
      "image 66/72 /home/jacobo15defrutos/AVS9/Data/Data_seg_SAM/train/images/Captura_de_pantalla_(62).png: 800x800 1 iris, 1078.6ms\n",
      "image 67/72 /home/jacobo15defrutos/AVS9/Data/Data_seg_SAM/train/images/Captura_de_pantalla_(63).png: 800x800 2 iriss, 1676.1ms\n",
      "image 68/72 /home/jacobo15defrutos/AVS9/Data/Data_seg_SAM/train/images/Captura_de_pantalla_(64).png: 800x800 1 iris, 775.8ms\n",
      "image 69/72 /home/jacobo15defrutos/AVS9/Data/Data_seg_SAM/train/images/Captura_de_pantalla_(65).png: 800x800 1 iris, 1050.4ms\n",
      "image 70/72 /home/jacobo15defrutos/AVS9/Data/Data_seg_SAM/train/images/Captura_de_pantalla_(66).png: 800x800 1 iris, 1208.0ms\n",
      "image 71/72 /home/jacobo15defrutos/AVS9/Data/Data_seg_SAM/train/images/Captura_de_pantalla_(67).png: 800x800 1 iris, 653.5ms\n",
      "image 72/72 /home/jacobo15defrutos/AVS9/Data/Data_seg_SAM/train/images/Captura_de_pantalla_(68).png: 800x800 1 iris, 933.7ms\n",
      "Speed: 10.4ms preprocess, 1888.4ms inference, 13.1ms postprocess per image at shape (1, 3, 800, 800)\n"
     ]
    }
   ],
   "source": [
    "DATA_IMG_DIR= '/home/jacobo15defrutos/AVS9/Data/Data_seg_SAM/train/images'\n",
    "preds= model_yolo.predict(DATA_IMG_DIR)"
   ]
  },
  {
   "cell_type": "code",
   "execution_count": null,
   "metadata": {},
   "outputs": [],
   "source": [
    "\n",
    "count=0\n",
    "#folder= '/content/drive/MyDrive/Iris_project/Results_Seg'\n",
    "for pred in preds:\n",
    "  idx=0\n",
    "  if len(pred.boxes)!=0:\n",
    "    idx= torch.argmax(pred.boxes.conf)\n",
    "    box= pred.boxes[idx.item()]\n",
    "    cords= box.xyxy[0].tolist()\n",
    "    prob=box.conf[0].item()\n",
    "    test_image= pred.orig_img\n",
    "    x_min, y_min, x_max, y_max = map(int, cords)\n",
    "    box_sam=[x_min, y_min, x_max, y_max]\n",
    "    confidence = round(prob * 100, 2)\n",
    "  elif len(pred.boxes)==0:\n",
    "    box_sam=[0,0,pred.boxes.orig_shape[0],pred.boxes.orig_shape[1]]\n",
    "\n",
    "  #final_pred= model_SAM(test_image, bboxes=box_sam)\n",
    "  #pred_mask=final_pred[0].masks.data.squeeze()\n",
    "  #print(pred_mask)\n",
    "  # Overlay the mask on the original image\n",
    "  #overlay = draw_translucent_seg_maps(test_image, pred_mask, count,folder)\n",
    "  \n",
    "  cv2.rectangle(test_image, (x_min, y_min), (x_max, y_max), (0, 255, 0), 2)\n",
    "  label = f\"Class: {box.cls}, Confidence: {confidence}%\"\n",
    "  cv2.putText(test_image, label, (x_min, y_min - 10), cv2.FONT_HERSHEY_SIMPLEX, 0.5, (0, 255, 0), 2)\n",
    "  cv2.imwrite(f\"/home/jacobo15defrutos/AVS9/Data/saved_test_images/image_{count}j.jpg\", test_image)\n",
    "  count=count+1"
   ]
  }
 ],
 "metadata": {
  "kernelspec": {
   "display_name": "iris",
   "language": "python",
   "name": "python3"
  },
  "language_info": {
   "codemirror_mode": {
    "name": "ipython",
    "version": 3
   },
   "file_extension": ".py",
   "mimetype": "text/x-python",
   "name": "python",
   "nbconvert_exporter": "python",
   "pygments_lexer": "ipython3",
   "version": "3.10.13"
  }
 },
 "nbformat": 4,
 "nbformat_minor": 2
}
