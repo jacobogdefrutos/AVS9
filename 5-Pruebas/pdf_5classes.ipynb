{
 "cells": [
  {
   "cell_type": "code",
   "execution_count": 1,
   "metadata": {},
   "outputs": [],
   "source": [
    "from sklearn.discriminant_analysis import LinearDiscriminantAnalysis as LDA\n",
    "from scipy.stats import multivariate_normal as norm\n",
    "import pandas as pd\n",
    "import cv2\n",
    "import numpy as np\n",
    "import matplotlib.pyplot as plt"
   ]
  },
  {
   "cell_type": "code",
   "execution_count": 15,
   "metadata": {},
   "outputs": [
    {
     "data": {
      "text/plain": [
       "(343, 50176)"
      ]
     },
     "execution_count": 15,
     "metadata": {},
     "output_type": "execute_result"
    }
   ],
   "source": [
    "file_train_b_csv=r'/home/jacobo15defrutos/AVS9/5-Pruebas/train.csv'\n",
    "df_train= pd.read_csv(file_train_b_csv)\n",
    "labels_train= df_train['Label']\n",
    "train_list=[]\n",
    "target_size = (224, 224)\n",
    "folder= '/home/jacobo15defrutos/AVS9/5-Pruebas/Total_images/'\n",
    "for name in df_train['Name']:\n",
    "    path= folder + name\n",
    "    img=cv2.imread(path, cv2.IMREAD_GRAYSCALE)\n",
    "    img= cv2.resize(img,target_size)\n",
    "    img=img.ravel()\n",
    "    train_list.append(img)\n",
    "train= np.array(train_list)\n",
    "train.shape"
   ]
  },
  {
   "cell_type": "code",
   "execution_count": 16,
   "metadata": {},
   "outputs": [
    {
     "data": {
      "text/html": [
       "<style>#sk-container-id-2 {color: black;}#sk-container-id-2 pre{padding: 0;}#sk-container-id-2 div.sk-toggleable {background-color: white;}#sk-container-id-2 label.sk-toggleable__label {cursor: pointer;display: block;width: 100%;margin-bottom: 0;padding: 0.3em;box-sizing: border-box;text-align: center;}#sk-container-id-2 label.sk-toggleable__label-arrow:before {content: \"▸\";float: left;margin-right: 0.25em;color: #696969;}#sk-container-id-2 label.sk-toggleable__label-arrow:hover:before {color: black;}#sk-container-id-2 div.sk-estimator:hover label.sk-toggleable__label-arrow:before {color: black;}#sk-container-id-2 div.sk-toggleable__content {max-height: 0;max-width: 0;overflow: hidden;text-align: left;background-color: #f0f8ff;}#sk-container-id-2 div.sk-toggleable__content pre {margin: 0.2em;color: black;border-radius: 0.25em;background-color: #f0f8ff;}#sk-container-id-2 input.sk-toggleable__control:checked~div.sk-toggleable__content {max-height: 200px;max-width: 100%;overflow: auto;}#sk-container-id-2 input.sk-toggleable__control:checked~label.sk-toggleable__label-arrow:before {content: \"▾\";}#sk-container-id-2 div.sk-estimator input.sk-toggleable__control:checked~label.sk-toggleable__label {background-color: #d4ebff;}#sk-container-id-2 div.sk-label input.sk-toggleable__control:checked~label.sk-toggleable__label {background-color: #d4ebff;}#sk-container-id-2 input.sk-hidden--visually {border: 0;clip: rect(1px 1px 1px 1px);clip: rect(1px, 1px, 1px, 1px);height: 1px;margin: -1px;overflow: hidden;padding: 0;position: absolute;width: 1px;}#sk-container-id-2 div.sk-estimator {font-family: monospace;background-color: #f0f8ff;border: 1px dotted black;border-radius: 0.25em;box-sizing: border-box;margin-bottom: 0.5em;}#sk-container-id-2 div.sk-estimator:hover {background-color: #d4ebff;}#sk-container-id-2 div.sk-parallel-item::after {content: \"\";width: 100%;border-bottom: 1px solid gray;flex-grow: 1;}#sk-container-id-2 div.sk-label:hover label.sk-toggleable__label {background-color: #d4ebff;}#sk-container-id-2 div.sk-serial::before {content: \"\";position: absolute;border-left: 1px solid gray;box-sizing: border-box;top: 0;bottom: 0;left: 50%;z-index: 0;}#sk-container-id-2 div.sk-serial {display: flex;flex-direction: column;align-items: center;background-color: white;padding-right: 0.2em;padding-left: 0.2em;position: relative;}#sk-container-id-2 div.sk-item {position: relative;z-index: 1;}#sk-container-id-2 div.sk-parallel {display: flex;align-items: stretch;justify-content: center;background-color: white;position: relative;}#sk-container-id-2 div.sk-item::before, #sk-container-id-2 div.sk-parallel-item::before {content: \"\";position: absolute;border-left: 1px solid gray;box-sizing: border-box;top: 0;bottom: 0;left: 50%;z-index: -1;}#sk-container-id-2 div.sk-parallel-item {display: flex;flex-direction: column;z-index: 1;position: relative;background-color: white;}#sk-container-id-2 div.sk-parallel-item:first-child::after {align-self: flex-end;width: 50%;}#sk-container-id-2 div.sk-parallel-item:last-child::after {align-self: flex-start;width: 50%;}#sk-container-id-2 div.sk-parallel-item:only-child::after {width: 0;}#sk-container-id-2 div.sk-dashed-wrapped {border: 1px dashed gray;margin: 0 0.4em 0.5em 0.4em;box-sizing: border-box;padding-bottom: 0.4em;background-color: white;}#sk-container-id-2 div.sk-label label {font-family: monospace;font-weight: bold;display: inline-block;line-height: 1.2em;}#sk-container-id-2 div.sk-label-container {text-align: center;}#sk-container-id-2 div.sk-container {/* jupyter's `normalize.less` sets `[hidden] { display: none; }` but bootstrap.min.css set `[hidden] { display: none !important; }` so we also need the `!important` here to be able to override the default hidden behavior on the sphinx rendered scikit-learn.org. See: https://github.com/scikit-learn/scikit-learn/issues/21755 */display: inline-block !important;position: relative;}#sk-container-id-2 div.sk-text-repr-fallback {display: none;}</style><div id=\"sk-container-id-2\" class=\"sk-top-container\"><div class=\"sk-text-repr-fallback\"><pre>LinearDiscriminantAnalysis(n_components=3)</pre><b>In a Jupyter environment, please rerun this cell to show the HTML representation or trust the notebook. <br />On GitHub, the HTML representation is unable to render, please try loading this page with nbviewer.org.</b></div><div class=\"sk-container\" hidden><div class=\"sk-item\"><div class=\"sk-estimator sk-toggleable\"><input class=\"sk-toggleable__control sk-hidden--visually\" id=\"sk-estimator-id-2\" type=\"checkbox\" checked><label for=\"sk-estimator-id-2\" class=\"sk-toggleable__label sk-toggleable__label-arrow\">LinearDiscriminantAnalysis</label><div class=\"sk-toggleable__content\"><pre>LinearDiscriminantAnalysis(n_components=3)</pre></div></div></div></div></div>"
      ],
      "text/plain": [
       "LinearDiscriminantAnalysis(n_components=3)"
      ]
     },
     "execution_count": 16,
     "metadata": {},
     "output_type": "execute_result"
    }
   ],
   "source": [
    "lda=LDA(n_components=3)\n",
    "lda.fit(train,labels_train)"
   ]
  },
  {
   "cell_type": "code",
   "execution_count": 17,
   "metadata": {},
   "outputs": [
    {
     "data": {
      "text/plain": [
       "(60, 50176)"
      ]
     },
     "execution_count": 17,
     "metadata": {},
     "output_type": "execute_result"
    }
   ],
   "source": [
    "train_SANO_list=[]\n",
    "train_CMV_list=[]\n",
    "train_SURV_list=[]\n",
    "train_SUF_list=[]\n",
    "train_POSTNER_list=[]\n",
    "target_size = (224, 224)\n",
    "folder= '/home/jacobo15defrutos/AVS9/5-Pruebas/Total_images/'\n",
    "for name in df_train['Name']:\n",
    "    path= folder + name\n",
    "    img=cv2.imread(path, cv2.IMREAD_GRAYSCALE)\n",
    "    img= cv2.resize(img,target_size)\n",
    "    img=img.ravel()\n",
    "    if 'SANO' in name:\n",
    "        train_SANO_list.append(img)\n",
    "    elif 'CMV' in name:\n",
    "        train_CMV_list.append(img)\n",
    "    elif 'SURV' in name:\n",
    "        train_SURV_list.append(img)\n",
    "    elif 'SUF' in name:\n",
    "        train_SUF_list.append(img)\n",
    "    elif 'POSTNER' in name:\n",
    "        train_POSTNER_list.append(img)\n",
    "train_SANO= np.array(train_SANO_list)\n",
    "train_CMV= np.array(train_CMV_list)\n",
    "train_SURV= np.array(train_SURV_list)\n",
    "train_SUF= np.array(train_SUF_list)\n",
    "train_POSTNER= np.array(train_POSTNER_list)\n",
    "train_POSTNER.shape"
   ]
  },
  {
   "cell_type": "code",
   "execution_count": 18,
   "metadata": {},
   "outputs": [],
   "source": [
    "x_sano=lda.transform(train_SANO)\n",
    "x_cmv=lda.transform(train_CMV)\n",
    "x_surv=lda.transform(train_SURV)\n",
    "x_suf=lda.transform(train_SUF)\n",
    "x_post=lda.transform(train_POSTNER)"
   ]
  },
  {
   "cell_type": "code",
   "execution_count": 19,
   "metadata": {},
   "outputs": [],
   "source": [
    "mean_sano=np.mean(x_sano,axis=0)\n",
    "mean_cmv=np.mean(x_cmv,axis=0)\n",
    "mean_surv=np.mean(x_surv,axis=0)\n",
    "mean_suf=np.mean(x_suf,axis=0)\n",
    "mean_post=np.mean(x_post,axis=0)\n",
    "\n",
    "cvar_sano=np.cov(x_sano.T)\n",
    "cvar_cmv=np.cov(x_cmv.T)\n",
    "cvar_surv=np.cov(x_surv.T)\n",
    "cvar_suf=np.cov(x_suf.T)\n",
    "cvar_post=np.cov(x_post.T)\n",
    "\n",
    "rv_c0= norm(mean_sano,cvar_sano)\n",
    "rv_c1= norm(mean_cmv,cvar_cmv)\n",
    "rv_c2= norm(mean_surv,cvar_surv)\n",
    "rv_c3= norm(mean_suf,cvar_suf)\n",
    "rv_c4= norm(mean_post,cvar_post)"
   ]
  },
  {
   "cell_type": "code",
   "execution_count": 20,
   "metadata": {},
   "outputs": [
    {
     "data": {
      "text/plain": [
       "(96, 50176)"
      ]
     },
     "execution_count": 20,
     "metadata": {},
     "output_type": "execute_result"
    }
   ],
   "source": [
    "file_test_b_csv=r'/home/jacobo15defrutos/AVS9/5-Pruebas/test.csv'\n",
    "df_test= pd.read_csv(file_test_b_csv)\n",
    "labels_test= df_test['Label']\n",
    "test_list=[]\n",
    "target_size = (224, 224)\n",
    "folder= '/home/jacobo15defrutos/AVS9/5-Pruebas/Total_images/'\n",
    "for name in df_test['Name']:\n",
    "    path= folder + name\n",
    "    img=cv2.imread(path, cv2.IMREAD_GRAYSCALE)\n",
    "    img= cv2.resize(img,target_size)\n",
    "    img_dense = img.ravel()\n",
    "    test_list.append(img_dense)\n",
    "test= np.array(test_list)\n",
    "test.shape"
   ]
  },
  {
   "cell_type": "code",
   "execution_count": 21,
   "metadata": {},
   "outputs": [],
   "source": [
    "test_SANO_list=[]\n",
    "test_CMV_list=[]\n",
    "test_SURV_list=[]\n",
    "test_SUF_list=[]\n",
    "test_POSTNER_list=[]\n",
    "target_size = (224, 224)\n",
    "folder= '/home/jacobo15defrutos/AVS9/5-Pruebas/Total_images/'\n",
    "for name in df_test['Name']:\n",
    "    path= folder + name\n",
    "    img=cv2.imread(path, cv2.IMREAD_GRAYSCALE)\n",
    "    img= cv2.resize(img,target_size)\n",
    "    img=img.ravel()\n",
    "    if 'SANO' in name:\n",
    "        test_SANO_list.append(img)\n",
    "    elif 'CMV' in name:\n",
    "        test_CMV_list.append(img)\n",
    "    elif 'SURV' in name:\n",
    "        test_SURV_list.append(img)\n",
    "    elif 'SUF' in name:\n",
    "        test_SUF_list.append(img)\n",
    "    elif 'POSTNER' in name:\n",
    "        test_POSTNER_list.append(img)\n",
    "test_SANO= np.array(test_SANO_list)\n",
    "test_CMV= np.array(test_CMV_list)\n",
    "test_SURV= np.array(test_SURV_list)\n",
    "test_SUF= np.array(test_SUF_list)\n",
    "test_POSTNER= np.array(test_POSTNER_list)\n",
    "label_test_sano=0*np.ones(len(test_SANO))\n",
    "label_test_cmv=1*np.ones(len(test_CMV))\n",
    "label_test_surv=2*np.ones(len(test_SURV))\n",
    "label_test_suf=2*np.ones(len(test_SUF))\n",
    "label_test_post=2*np.ones(len(test_POSTNER))"
   ]
  },
  {
   "cell_type": "markdown",
   "metadata": {},
   "source": [
    "### Calculate the total test accuracy"
   ]
  },
  {
   "cell_type": "code",
   "execution_count": 22,
   "metadata": {},
   "outputs": [],
   "source": [
    "x_test=lda.transform(test)\n",
    "p_sano = rv_c0.pdf(x_test)\n",
    "p_cmv = rv_c1.pdf(x_test)\n",
    "p_surv = rv_c2.pdf(x_test)\n",
    "p_suf = rv_c3.pdf(x_test)\n",
    "p_post = rv_c4.pdf(x_test)"
   ]
  },
  {
   "cell_type": "code",
   "execution_count": 23,
   "metadata": {},
   "outputs": [
    {
     "data": {
      "text/plain": [
       "array([2, 4, 1, 2, 1, 2, 3, 3, 3, 2, 0, 0, 1, 3, 1, 3, 2, 3, 1, 2, 2, 0,\n",
       "       0, 1, 1, 1, 1, 1, 1, 2, 1, 0, 0, 0, 1, 2, 3, 1, 2, 0, 1, 3, 1, 2,\n",
       "       4, 2, 0, 0, 2, 3, 2, 4, 0, 1, 1, 1, 2, 1, 4, 0, 0, 0, 0, 1, 3, 2,\n",
       "       1, 2, 4, 2, 4, 0, 2, 1, 1, 2, 3, 1, 1, 0, 4, 3, 1, 2, 1, 2, 4, 2,\n",
       "       2, 1, 1, 2, 1, 0, 1, 2])"
      ]
     },
     "execution_count": 23,
     "metadata": {},
     "output_type": "execute_result"
    }
   ],
   "source": [
    "classes= np.array([0,1,2,3,4])\n",
    "pred= np.argmax(np.c_[p_sano,p_cmv,p_surv,p_suf,p_post],axis=1)\n",
    "pred"
   ]
  },
  {
   "cell_type": "code",
   "execution_count": 24,
   "metadata": {},
   "outputs": [
    {
     "name": "stdout",
     "output_type": "stream",
     "text": [
      "Total Accuracy:  21.875 %\n"
     ]
    }
   ],
   "source": [
    "from sklearn.metrics import accuracy_score\n",
    "acc_total= accuracy_score(labels_test,pred)\n",
    "print(\"Total Accuracy: \",acc_total*100,\"%\")"
   ]
  },
  {
   "cell_type": "markdown",
   "metadata": {},
   "source": [
    "### Calculate each class accuracy"
   ]
  },
  {
   "cell_type": "code",
   "execution_count": 25,
   "metadata": {},
   "outputs": [
    {
     "name": "stdout",
     "output_type": "stream",
     "text": [
      "Class SANO Accuracy: 17.14 %\n",
      "Class CMV Accuracy: 31.58 %\n",
      "Class SURV Accuracy: 30.00 %\n",
      "Class SUF Accuracy: 10.00 %\n",
      "Class POSTNER Accuracy: 16.67 %\n"
     ]
    }
   ],
   "source": [
    "acc_sano = np.sum(pred[labels_test == 0] == 0)/len(label_test_sano) * 100\n",
    "acc_cmv = np.sum(pred[labels_test == 1] == 1)/len(label_test_cmv) * 100\n",
    "acc_surv = np.sum(pred[labels_test == 2] == 2)/len(label_test_surv) * 100\n",
    "acc_suf = np.sum(pred[labels_test == 3] == 3)/len(label_test_suf) * 100\n",
    "acc_post = np.sum(pred[labels_test == 4] == 4)/len(label_test_post) * 100\n",
    "print(\"Class SANO Accuracy: {:.2f} %\".format(acc_sano))\n",
    "print(\"Class CMV Accuracy: {:.2f} %\".format(acc_cmv))\n",
    "print(\"Class SURV Accuracy: {:.2f} %\".format(acc_surv))\n",
    "print(\"Class SUF Accuracy: {:.2f} %\".format(acc_suf))\n",
    "print(\"Class POSTNER Accuracy: {:.2f} %\".format(acc_post))"
   ]
  }
 ],
 "metadata": {
  "kernelspec": {
   "display_name": "iris",
   "language": "python",
   "name": "python3"
  },
  "language_info": {
   "codemirror_mode": {
    "name": "ipython",
    "version": 3
   },
   "file_extension": ".py",
   "mimetype": "text/x-python",
   "name": "python",
   "nbconvert_exporter": "python",
   "pygments_lexer": "ipython3",
   "version": "3.10.13"
  }
 },
 "nbformat": 4,
 "nbformat_minor": 2
}
