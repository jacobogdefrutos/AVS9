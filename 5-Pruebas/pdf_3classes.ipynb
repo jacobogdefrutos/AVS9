{
 "cells": [
  {
   "cell_type": "code",
   "execution_count": 99,
   "metadata": {},
   "outputs": [],
   "source": [
    "from sklearn.discriminant_analysis import LinearDiscriminantAnalysis as LDA\n",
    "from scipy.stats import multivariate_normal as norm\n",
    "import pandas as pd\n",
    "import cv2\n",
    "import numpy as np\n",
    "import matplotlib.pyplot as plt\n",
    "from sklearn.model_selection import train_test_split"
   ]
  },
  {
   "cell_type": "code",
   "execution_count": 100,
   "metadata": {},
   "outputs": [
    {
     "name": "stdout",
     "output_type": "stream",
     "text": [
      "Train shape:  (268, 2)\n",
      "Test shape:  (67, 2)\n"
     ]
    }
   ],
   "source": [
    "file_data_b_csv=r'/home/jacobo15defrutos/AVS9/5-Pruebas/total_imgs.csv'\n",
    "df= pd.read_csv(file_data_b_csv)\n",
    "df_train, df_test = train_test_split(df, test_size=0.2,random_state=42)\n",
    "print(\"Train shape: \",df_train.shape)\n",
    "print(\"Test shape: \",df_test.shape)"
   ]
  },
  {
   "cell_type": "code",
   "execution_count": 101,
   "metadata": {},
   "outputs": [
    {
     "data": {
      "text/plain": [
       "(268, 50176)"
      ]
     },
     "execution_count": 101,
     "metadata": {},
     "output_type": "execute_result"
    }
   ],
   "source": [
    "labels_train= df_train['Label']\n",
    "train_list=[]\n",
    "target_size = (224, 224)\n",
    "folder= '/home/jacobo15defrutos/AVS9/5-Pruebas/Total_images/'\n",
    "for name in df_train['Name']:\n",
    "    path= folder + name\n",
    "    img=cv2.imread(path, cv2.IMREAD_GRAYSCALE)\n",
    "    img= cv2.resize(img,target_size)\n",
    "    img=img.ravel()\n",
    "    train_list.append(img)\n",
    "train= np.array(train_list)\n",
    "train.shape"
   ]
  },
  {
   "cell_type": "code",
   "execution_count": 102,
   "metadata": {},
   "outputs": [
    {
     "data": {
      "text/html": [
       "<style>#sk-container-id-9 {color: black;}#sk-container-id-9 pre{padding: 0;}#sk-container-id-9 div.sk-toggleable {background-color: white;}#sk-container-id-9 label.sk-toggleable__label {cursor: pointer;display: block;width: 100%;margin-bottom: 0;padding: 0.3em;box-sizing: border-box;text-align: center;}#sk-container-id-9 label.sk-toggleable__label-arrow:before {content: \"▸\";float: left;margin-right: 0.25em;color: #696969;}#sk-container-id-9 label.sk-toggleable__label-arrow:hover:before {color: black;}#sk-container-id-9 div.sk-estimator:hover label.sk-toggleable__label-arrow:before {color: black;}#sk-container-id-9 div.sk-toggleable__content {max-height: 0;max-width: 0;overflow: hidden;text-align: left;background-color: #f0f8ff;}#sk-container-id-9 div.sk-toggleable__content pre {margin: 0.2em;color: black;border-radius: 0.25em;background-color: #f0f8ff;}#sk-container-id-9 input.sk-toggleable__control:checked~div.sk-toggleable__content {max-height: 200px;max-width: 100%;overflow: auto;}#sk-container-id-9 input.sk-toggleable__control:checked~label.sk-toggleable__label-arrow:before {content: \"▾\";}#sk-container-id-9 div.sk-estimator input.sk-toggleable__control:checked~label.sk-toggleable__label {background-color: #d4ebff;}#sk-container-id-9 div.sk-label input.sk-toggleable__control:checked~label.sk-toggleable__label {background-color: #d4ebff;}#sk-container-id-9 input.sk-hidden--visually {border: 0;clip: rect(1px 1px 1px 1px);clip: rect(1px, 1px, 1px, 1px);height: 1px;margin: -1px;overflow: hidden;padding: 0;position: absolute;width: 1px;}#sk-container-id-9 div.sk-estimator {font-family: monospace;background-color: #f0f8ff;border: 1px dotted black;border-radius: 0.25em;box-sizing: border-box;margin-bottom: 0.5em;}#sk-container-id-9 div.sk-estimator:hover {background-color: #d4ebff;}#sk-container-id-9 div.sk-parallel-item::after {content: \"\";width: 100%;border-bottom: 1px solid gray;flex-grow: 1;}#sk-container-id-9 div.sk-label:hover label.sk-toggleable__label {background-color: #d4ebff;}#sk-container-id-9 div.sk-serial::before {content: \"\";position: absolute;border-left: 1px solid gray;box-sizing: border-box;top: 0;bottom: 0;left: 50%;z-index: 0;}#sk-container-id-9 div.sk-serial {display: flex;flex-direction: column;align-items: center;background-color: white;padding-right: 0.2em;padding-left: 0.2em;position: relative;}#sk-container-id-9 div.sk-item {position: relative;z-index: 1;}#sk-container-id-9 div.sk-parallel {display: flex;align-items: stretch;justify-content: center;background-color: white;position: relative;}#sk-container-id-9 div.sk-item::before, #sk-container-id-9 div.sk-parallel-item::before {content: \"\";position: absolute;border-left: 1px solid gray;box-sizing: border-box;top: 0;bottom: 0;left: 50%;z-index: -1;}#sk-container-id-9 div.sk-parallel-item {display: flex;flex-direction: column;z-index: 1;position: relative;background-color: white;}#sk-container-id-9 div.sk-parallel-item:first-child::after {align-self: flex-end;width: 50%;}#sk-container-id-9 div.sk-parallel-item:last-child::after {align-self: flex-start;width: 50%;}#sk-container-id-9 div.sk-parallel-item:only-child::after {width: 0;}#sk-container-id-9 div.sk-dashed-wrapped {border: 1px dashed gray;margin: 0 0.4em 0.5em 0.4em;box-sizing: border-box;padding-bottom: 0.4em;background-color: white;}#sk-container-id-9 div.sk-label label {font-family: monospace;font-weight: bold;display: inline-block;line-height: 1.2em;}#sk-container-id-9 div.sk-label-container {text-align: center;}#sk-container-id-9 div.sk-container {/* jupyter's `normalize.less` sets `[hidden] { display: none; }` but bootstrap.min.css set `[hidden] { display: none !important; }` so we also need the `!important` here to be able to override the default hidden behavior on the sphinx rendered scikit-learn.org. See: https://github.com/scikit-learn/scikit-learn/issues/21755 */display: inline-block !important;position: relative;}#sk-container-id-9 div.sk-text-repr-fallback {display: none;}</style><div id=\"sk-container-id-9\" class=\"sk-top-container\"><div class=\"sk-text-repr-fallback\"><pre>LinearDiscriminantAnalysis(n_components=2)</pre><b>In a Jupyter environment, please rerun this cell to show the HTML representation or trust the notebook. <br />On GitHub, the HTML representation is unable to render, please try loading this page with nbviewer.org.</b></div><div class=\"sk-container\" hidden><div class=\"sk-item\"><div class=\"sk-estimator sk-toggleable\"><input class=\"sk-toggleable__control sk-hidden--visually\" id=\"sk-estimator-id-9\" type=\"checkbox\" checked><label for=\"sk-estimator-id-9\" class=\"sk-toggleable__label sk-toggleable__label-arrow\">LinearDiscriminantAnalysis</label><div class=\"sk-toggleable__content\"><pre>LinearDiscriminantAnalysis(n_components=2)</pre></div></div></div></div></div>"
      ],
      "text/plain": [
       "LinearDiscriminantAnalysis(n_components=2)"
      ]
     },
     "execution_count": 102,
     "metadata": {},
     "output_type": "execute_result"
    }
   ],
   "source": [
    "lda=LDA(n_components=2)\n",
    "lda.fit(train,labels_train)"
   ]
  },
  {
   "cell_type": "code",
   "execution_count": 103,
   "metadata": {},
   "outputs": [
    {
     "data": {
      "text/plain": [
       "(92, 50176)"
      ]
     },
     "execution_count": 103,
     "metadata": {},
     "output_type": "execute_result"
    }
   ],
   "source": [
    "train_SANO_list=[]\n",
    "train_CMV_list=[]\n",
    "train_SURV_list=[]\n",
    "target_size = (224, 224)\n",
    "folder= '/home/jacobo15defrutos/AVS9/5-Pruebas/Total_images/'\n",
    "for name in df['Name']:\n",
    "    path= folder + name\n",
    "    img=cv2.imread(path, cv2.IMREAD_GRAYSCALE)\n",
    "    img= cv2.resize(img,target_size)\n",
    "    img=img.ravel()\n",
    "    if 'SANO' in name:\n",
    "        train_SANO_list.append(img)\n",
    "    elif 'CMV' in name:\n",
    "        train_CMV_list.append(img)\n",
    "    elif 'SURV' in name:\n",
    "        train_SURV_list.append(img)\n",
    "train_SANO= np.array(train_SANO_list)\n",
    "train_CMV= np.array(train_CMV_list)\n",
    "train_SURV= np.array(train_SURV_list)\n",
    "train_SURV.shape"
   ]
  },
  {
   "cell_type": "code",
   "execution_count": 104,
   "metadata": {},
   "outputs": [],
   "source": [
    "x_sano=lda.transform(train_SANO)\n",
    "x_cmv=lda.transform(train_CMV)\n",
    "x_surv=lda.transform(train_SURV)"
   ]
  },
  {
   "cell_type": "code",
   "execution_count": 105,
   "metadata": {},
   "outputs": [],
   "source": [
    "mean_sano=np.mean(x_sano,axis=0)\n",
    "mean_cmv=np.mean(x_cmv,axis=0)\n",
    "mean_surv=np.mean(x_surv,axis=0)\n",
    "\n",
    "cvar_sano=np.cov(x_sano.T)\n",
    "cvar_cmv=np.cov(x_cmv.T)\n",
    "cvar_surv=np.cov(x_surv.T)\n",
    "\n",
    "rv_c0= norm(mean_sano,cvar_sano)\n",
    "rv_c1= norm(mean_cmv,cvar_cmv)\n",
    "rv_c2= norm(mean_surv,cvar_surv)"
   ]
  },
  {
   "cell_type": "code",
   "execution_count": 106,
   "metadata": {},
   "outputs": [
    {
     "data": {
      "text/plain": [
       "(67, 50176)"
      ]
     },
     "execution_count": 106,
     "metadata": {},
     "output_type": "execute_result"
    }
   ],
   "source": [
    "labels_test= df_test['Label']\n",
    "test_list=[]\n",
    "target_size = (224, 224)\n",
    "folder= '/home/jacobo15defrutos/AVS9/5-Pruebas/Total_images/'\n",
    "for name in df_test['Name']:\n",
    "    path= folder + name\n",
    "    img=cv2.imread(path, cv2.IMREAD_GRAYSCALE)\n",
    "    img= cv2.resize(img,target_size)\n",
    "    img_dense = img.ravel()\n",
    "    test_list.append(img_dense)\n",
    "test= np.array(test_list)\n",
    "test.shape"
   ]
  },
  {
   "cell_type": "code",
   "execution_count": 107,
   "metadata": {},
   "outputs": [],
   "source": [
    "test_SANO_list=[]\n",
    "test_CMV_list=[]\n",
    "test_SURV_list=[]\n",
    "target_size = (224, 224)\n",
    "folder= '/home/jacobo15defrutos/AVS9/5-Pruebas/Total_images/'\n",
    "for name in df_test['Name']:\n",
    "    path= folder + name\n",
    "    img=cv2.imread(path, cv2.IMREAD_GRAYSCALE)\n",
    "    img= cv2.resize(img,target_size)\n",
    "    img=img.ravel()\n",
    "    if 'SANO' in name:\n",
    "        test_SANO_list.append(img)\n",
    "    elif 'CMV' in name:\n",
    "        test_CMV_list.append(img)\n",
    "    elif 'SURV' in name:\n",
    "        test_SURV_list.append(img)\n",
    "test_SANO= np.array(test_SANO_list)\n",
    "test_CMV= np.array(test_CMV_list)\n",
    "test_SURV= np.array(test_SURV_list)\n",
    "label_test_sano=0*np.ones(len(test_SANO))\n",
    "label_test_cmv=1*np.ones(len(test_CMV))\n",
    "label_test_surv=2*np.ones(len(test_SURV))"
   ]
  },
  {
   "cell_type": "markdown",
   "metadata": {},
   "source": [
    "### Calculate the total test accuracy"
   ]
  },
  {
   "cell_type": "code",
   "execution_count": 108,
   "metadata": {},
   "outputs": [
    {
     "name": "stdout",
     "output_type": "stream",
     "text": [
      "0.5783582089552238 0.3283582089552239 0.34328358208955223\n"
     ]
    }
   ],
   "source": [
    "P_c0= train_SANO.shape[0]/train.shape[0]\n",
    "P_c1= train_CMV.shape[0]/train.shape[0]\n",
    "P_c2= train_SURV.shape[0]/train.shape[0]\n",
    "print(P_c0,P_c1,P_c2)"
   ]
  },
  {
   "cell_type": "code",
   "execution_count": 110,
   "metadata": {},
   "outputs": [],
   "source": [
    "count=0\n",
    "count0=0\n",
    "count1=0\n",
    "count2=0\n",
    "x_test=lda.transform(test)\n",
    "rv_x=np.zeros(len(test))\n",
    "for i in range (len(test)):\n",
    "    rv_c0_0= rv_c0.pdf(x_test[i]) \n",
    "    rv_c1_1= rv_c1.pdf(x_test[i])\n",
    "    rv_c2_2= rv_c2.pdf(x_test[i])\n",
    "    if (rv_c0_0*P_c0)>(rv_c1_1*P_c1) and (rv_c0_0*P_c0)>(rv_c2_2*P_c2) :\n",
    "        rv_x[i]=0\n",
    "        if np.array(labels_test)[i]==0:\n",
    "            count=count+1\n",
    "            count0=count0+1\n",
    "    elif (rv_c1_1*P_c1)>(rv_c0_0*P_c0) and (rv_c1_1*P_c1)>(rv_c2_2*P_c2):  \n",
    "        rv_x[i]=1\n",
    "        if np.array(labels_test)[i]==1:\n",
    "            count=count+1\n",
    "            count1=count1+1\n",
    "    elif (rv_c2_2*P_c2)>(rv_c0_0*P_c0) and (rv_c2_2*P_c2)>(rv_c1_1*P_c1):  \n",
    "        rv_x[i]=2\n",
    "        if np.array(labels_test)[i]==2:\n",
    "            count=count+1\n",
    "            count2=count2+1"
   ]
  },
  {
   "cell_type": "code",
   "execution_count": 111,
   "metadata": {},
   "outputs": [
    {
     "name": "stdout",
     "output_type": "stream",
     "text": [
      "Total Accuracy:  38.80597014925373 %\n",
      "Class 0 Accuracy:  62.5 %\n",
      "Class 1 Accuracy:  30.76923076923077 %\n",
      "Class 2 Accuracy:  17.647058823529413 %\n"
     ]
    }
   ],
   "source": [
    "accuracy=count/len(labels_test)\n",
    "print(\"Total Accuracy: \",accuracy*100,\"%\")\n",
    "accuracy0=count0/len(label_test_sano)\n",
    "accuracy1=count1/len(label_test_cmv)\n",
    "accuracy2=count2/len(label_test_surv)\n",
    "print(\"Class 0 Accuracy: \",accuracy0*100,\"%\")\n",
    "print(\"Class 1 Accuracy: \",accuracy1*100,\"%\")\n",
    "print(\"Class 2 Accuracy: \",accuracy2*100,\"%\")"
   ]
  },
  {
   "cell_type": "code",
   "execution_count": 112,
   "metadata": {},
   "outputs": [],
   "source": [
    "x_test=lda.transform(test)\n",
    "p_sano = rv_c0.pdf(x_test)\n",
    "p_cmv = rv_c1.pdf(x_test)\n",
    "p_surv = rv_c2.pdf(x_test)"
   ]
  },
  {
   "cell_type": "code",
   "execution_count": 113,
   "metadata": {},
   "outputs": [
    {
     "data": {
      "text/plain": [
       "array([1, 0, 0, 2, 0, 1, 0, 2, 1, 1, 0, 0, 2, 0, 0, 2, 2, 0, 1, 0, 0, 1,\n",
       "       0, 0, 0, 1, 1, 1, 2, 1, 1, 2, 1, 2, 1, 2, 2, 0, 2, 1, 1, 2, 1, 0,\n",
       "       0, 1, 1, 0, 1, 0, 1, 1, 0, 0, 1, 2, 2, 0, 2, 0, 0, 0, 1, 2, 0, 2,\n",
       "       1])"
      ]
     },
     "execution_count": 113,
     "metadata": {},
     "output_type": "execute_result"
    }
   ],
   "source": [
    "classes= np.array([0,1,2])\n",
    "pred= np.argmax(np.c_[p_sano,p_cmv,p_surv],axis=1)\n",
    "pred"
   ]
  },
  {
   "cell_type": "code",
   "execution_count": 114,
   "metadata": {},
   "outputs": [
    {
     "name": "stdout",
     "output_type": "stream",
     "text": [
      "Total Accuracy:  43.28358208955223 %\n"
     ]
    }
   ],
   "source": [
    "from sklearn.metrics import accuracy_score\n",
    "acc_total= accuracy_score(labels_test,pred)\n",
    "print(\"Total Accuracy: \",acc_total*100,\"%\")"
   ]
  },
  {
   "cell_type": "markdown",
   "metadata": {},
   "source": [
    "### Calculate each class accuracy"
   ]
  },
  {
   "cell_type": "code",
   "execution_count": 115,
   "metadata": {},
   "outputs": [
    {
     "name": "stdout",
     "output_type": "stream",
     "text": [
      "Class SANO Accuracy: 54.17 %\n",
      "Class CMV Accuracy: 46.15 %\n",
      "Class SURV Accuracy: 23.53 %\n"
     ]
    }
   ],
   "source": [
    "acc_sano = np.sum(pred[labels_test == 0] == 0)/len(label_test_sano) * 100\n",
    "acc_cmv = np.sum(pred[labels_test == 1] == 1)/len(label_test_cmv) * 100\n",
    "acc_surv = np.sum(pred[labels_test == 2] == 2)/len(label_test_surv) * 100\n",
    "print(\"Class SANO Accuracy: {:.2f} %\".format(acc_sano))\n",
    "print(\"Class CMV Accuracy: {:.2f} %\".format(acc_cmv))\n",
    "print(\"Class SURV Accuracy: {:.2f} %\".format(acc_surv))"
   ]
  }
 ],
 "metadata": {
  "kernelspec": {
   "display_name": "iris",
   "language": "python",
   "name": "python3"
  },
  "language_info": {
   "codemirror_mode": {
    "name": "ipython",
    "version": 3
   },
   "file_extension": ".py",
   "mimetype": "text/x-python",
   "name": "python",
   "nbconvert_exporter": "python",
   "pygments_lexer": "ipython3",
   "version": "3.10.13"
  }
 },
 "nbformat": 4,
 "nbformat_minor": 2
}
