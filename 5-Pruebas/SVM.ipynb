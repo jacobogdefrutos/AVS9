{
 "cells": [
  {
   "cell_type": "code",
   "execution_count": 84,
   "metadata": {},
   "outputs": [],
   "source": [
    "import cv2\n",
    "import pandas as pd\n",
    "import numpy as np\n",
    "from scipy.stats import multivariate_normal as norm\n",
    "import matplotlib.pyplot as plt\n",
    "from sklearn.svm import SVC"
   ]
  },
  {
   "cell_type": "code",
   "execution_count": 87,
   "metadata": {},
   "outputs": [
    {
     "data": {
      "text/html": [
       "<div>\n",
       "<style scoped>\n",
       "    .dataframe tbody tr th:only-of-type {\n",
       "        vertical-align: middle;\n",
       "    }\n",
       "\n",
       "    .dataframe tbody tr th {\n",
       "        vertical-align: top;\n",
       "    }\n",
       "\n",
       "    .dataframe thead th {\n",
       "        text-align: right;\n",
       "    }\n",
       "</style>\n",
       "<table border=\"1\" class=\"dataframe\">\n",
       "  <thead>\n",
       "    <tr style=\"text-align: right;\">\n",
       "      <th></th>\n",
       "      <th>Name</th>\n",
       "      <th>Label</th>\n",
       "    </tr>\n",
       "  </thead>\n",
       "  <tbody>\n",
       "    <tr>\n",
       "      <th>0</th>\n",
       "      <td>739156_OD_SUP_SURV.jpg_aug.png</td>\n",
       "      <td>2</td>\n",
       "    </tr>\n",
       "    <tr>\n",
       "      <th>1</th>\n",
       "      <td>465557_OD_INF_SANO.jpg</td>\n",
       "      <td>0</td>\n",
       "    </tr>\n",
       "    <tr>\n",
       "      <th>2</th>\n",
       "      <td>9108332_OD_TEM_SURV.jpg_aug.png</td>\n",
       "      <td>2</td>\n",
       "    </tr>\n",
       "    <tr>\n",
       "      <th>3</th>\n",
       "      <td>331281_OD_SUP_CMV.jpg</td>\n",
       "      <td>1</td>\n",
       "    </tr>\n",
       "    <tr>\n",
       "      <th>4</th>\n",
       "      <td>9455268_OD_SUP_CMV.jpg</td>\n",
       "      <td>1</td>\n",
       "    </tr>\n",
       "    <tr>\n",
       "      <th>...</th>\n",
       "      <td>...</td>\n",
       "      <td>...</td>\n",
       "    </tr>\n",
       "    <tr>\n",
       "      <th>254</th>\n",
       "      <td>331281_OI_INF_SANO.jpg</td>\n",
       "      <td>0</td>\n",
       "    </tr>\n",
       "    <tr>\n",
       "      <th>255</th>\n",
       "      <td>649387_OI_NAS_SURV.jpg</td>\n",
       "      <td>2</td>\n",
       "    </tr>\n",
       "    <tr>\n",
       "      <th>256</th>\n",
       "      <td>9301219_OI_SUP_CMV.jpg_aug.png</td>\n",
       "      <td>1</td>\n",
       "    </tr>\n",
       "    <tr>\n",
       "      <th>257</th>\n",
       "      <td>2581150_OI_NAS_SANO.jpg</td>\n",
       "      <td>0</td>\n",
       "    </tr>\n",
       "    <tr>\n",
       "      <th>258</th>\n",
       "      <td>110160_OI_SUP_SURV.jpg_aug.png</td>\n",
       "      <td>2</td>\n",
       "    </tr>\n",
       "  </tbody>\n",
       "</table>\n",
       "<p>259 rows × 2 columns</p>\n",
       "</div>"
      ],
      "text/plain": [
       "                                Name  Label\n",
       "0     739156_OD_SUP_SURV.jpg_aug.png      2\n",
       "1             465557_OD_INF_SANO.jpg      0\n",
       "2    9108332_OD_TEM_SURV.jpg_aug.png      2\n",
       "3              331281_OD_SUP_CMV.jpg      1\n",
       "4             9455268_OD_SUP_CMV.jpg      1\n",
       "..                               ...    ...\n",
       "254           331281_OI_INF_SANO.jpg      0\n",
       "255           649387_OI_NAS_SURV.jpg      2\n",
       "256   9301219_OI_SUP_CMV.jpg_aug.png      1\n",
       "257          2581150_OI_NAS_SANO.jpg      0\n",
       "258   110160_OI_SUP_SURV.jpg_aug.png      2\n",
       "\n",
       "[259 rows x 2 columns]"
      ]
     },
     "execution_count": 87,
     "metadata": {},
     "output_type": "execute_result"
    }
   ],
   "source": [
    "file_train_b_csv=r'/home/jacobo15defrutos/AVS9/5-Pruebas/train.csv'\n",
    "df_train= pd.read_csv(file_train_b_csv)\n",
    "labels_train= df_train['Label']\n",
    "df_train"
   ]
  },
  {
   "cell_type": "code",
   "execution_count": 88,
   "metadata": {},
   "outputs": [
    {
     "name": "stderr",
     "output_type": "stream",
     "text": [
      "[ WARN:0@22975.784] global /croot/opencv-suite_1691620365762/work/modules/imgcodecs/src/loadsave.cpp (239) findDecoder imread_('/home/jacobo15defrutos/AVS9/5-Pruebas/Total_images739156_OD_SUP_SURV.jpg_aug.png'): can't open/read file: check file path/integrity\n"
     ]
    },
    {
     "ename": "error",
     "evalue": "OpenCV(4.6.0) /croot/opencv-suite_1691620365762/work/modules/imgproc/src/resize.cpp:4052: error: (-215:Assertion failed) !ssize.empty() in function 'resize'\n",
     "output_type": "error",
     "traceback": [
      "\u001b[0;31m---------------------------------------------------------------------------\u001b[0m",
      "\u001b[0;31merror\u001b[0m                                     Traceback (most recent call last)",
      "\u001b[1;32m/home/jacobo15defrutos/AVS9/5-Pruebas/SVM.ipynb Cell 3\u001b[0m line \u001b[0;36m7\n\u001b[1;32m      <a href='vscode-notebook-cell:/home/jacobo15defrutos/AVS9/5-Pruebas/SVM.ipynb#W2sZmlsZQ%3D%3D?line=4'>5</a>\u001b[0m path\u001b[39m=\u001b[39m folder \u001b[39m+\u001b[39m name\n\u001b[1;32m      <a href='vscode-notebook-cell:/home/jacobo15defrutos/AVS9/5-Pruebas/SVM.ipynb#W2sZmlsZQ%3D%3D?line=5'>6</a>\u001b[0m img\u001b[39m=\u001b[39mcv2\u001b[39m.\u001b[39mimread(path, cv2\u001b[39m.\u001b[39mIMREAD_GRAYSCALE)\n\u001b[0;32m----> <a href='vscode-notebook-cell:/home/jacobo15defrutos/AVS9/5-Pruebas/SVM.ipynb#W2sZmlsZQ%3D%3D?line=6'>7</a>\u001b[0m img\u001b[39m=\u001b[39m cv2\u001b[39m.\u001b[39;49mresize(img,target_size)\n\u001b[1;32m      <a href='vscode-notebook-cell:/home/jacobo15defrutos/AVS9/5-Pruebas/SVM.ipynb#W2sZmlsZQ%3D%3D?line=7'>8</a>\u001b[0m img\u001b[39m=\u001b[39mimg\u001b[39m.\u001b[39mravel()\n\u001b[1;32m      <a href='vscode-notebook-cell:/home/jacobo15defrutos/AVS9/5-Pruebas/SVM.ipynb#W2sZmlsZQ%3D%3D?line=8'>9</a>\u001b[0m train_list\u001b[39m.\u001b[39mappend(img)\n",
      "\u001b[0;31merror\u001b[0m: OpenCV(4.6.0) /croot/opencv-suite_1691620365762/work/modules/imgproc/src/resize.cpp:4052: error: (-215:Assertion failed) !ssize.empty() in function 'resize'\n"
     ]
    }
   ],
   "source": [
    "train_list=[]\n",
    "target_size = (224, 224)\n",
    "folder= '/home/jacobo15defrutos/AVS9/5-Pruebas/Total_images/'\n",
    "for name in df_train['Name']:\n",
    "    path= folder + name\n",
    "    img=cv2.imread(path, cv2.IMREAD_GRAYSCALE)\n",
    "    img= cv2.resize(img,target_size)\n",
    "    img=img.ravel()\n",
    "    train_list.append(img)"
   ]
  },
  {
   "cell_type": "code",
   "execution_count": null,
   "metadata": {},
   "outputs": [],
   "source": [
    "train= np.array(train_list)\n",
    "train.shape"
   ]
  },
  {
   "cell_type": "code",
   "execution_count": null,
   "metadata": {},
   "outputs": [],
   "source": [
    "file_test_b_csv=r'/home/jacobo15defrutos/AVS9/4-Red_Siamesa/Iris_test_basic_seg_list.csv'\n",
    "df_test= pd.read_csv(file_test_b_csv)\n",
    "labels_test= df_test['Label']\n",
    "test_list=[]\n",
    "target_size = (224, 224)\n",
    "folder= '/home/jacobo15defrutos/AVS9/Data/saved_seg_class_images/test/'\n",
    "for name in df_test['Name']:\n",
    "    path= folder + name\n",
    "    img=cv2.imread(path, cv2.IMREAD_GRAYSCALE)\n",
    "    img= cv2.resize(img,target_size)\n",
    "    img_dense = img.ravel()\n",
    "    test_list.append(img_dense)\n",
    "test= np.array(test_list)\n",
    "test.shape"
   ]
  },
  {
   "cell_type": "code",
   "execution_count": null,
   "metadata": {},
   "outputs": [],
   "source": [
    "clf = SVC(gamma='scale',decision_function_shape='ovo',kernel='rbf')\n",
    "clf.fit(train,labels_train)"
   ]
  },
  {
   "cell_type": "code",
   "execution_count": null,
   "metadata": {},
   "outputs": [],
   "source": [
    "pred=clf.predict(test)\n",
    "from sklearn.metrics import accuracy_score\n",
    "acc=accuracy_score(labels_test,pred)\n",
    "acc"
   ]
  },
  {
   "cell_type": "code",
   "execution_count": null,
   "metadata": {},
   "outputs": [],
   "source": [
    "file_val_b_csv=r'/home/jacobo15defrutos/AVS9/4-Red_Siamesa/Iris_val_basic_seg_list.csv'\n",
    "df_val= pd.read_csv(file_val_b_csv)\n",
    "labels_val= df_val['Label']\n",
    "val_list=[]\n",
    "target_size = (224, 224)\n",
    "folder= '/home/jacobo15defrutos/AVS9/Data/saved_seg_class_images/val/'\n",
    "for name in df_val['Name']:\n",
    "    path= folder + name\n",
    "    img=cv2.imread(path, cv2.IMREAD_GRAYSCALE)\n",
    "    img= cv2.resize(img,target_size)\n",
    "    img_dense = img.ravel()\n",
    "    val_list.append(img_dense)\n",
    "val= np.array(val_list)\n",
    "val.shape\n",
    "pred_val=clf.predict(val)\n",
    "acc_v=accuracy_score(labels_val,pred_val)\n",
    "acc_v"
   ]
  },
  {
   "cell_type": "markdown",
   "metadata": {},
   "source": [
    "### Reducimos dimensionalidad para ver en 2 dimensiones"
   ]
  },
  {
   "cell_type": "code",
   "execution_count": null,
   "metadata": {},
   "outputs": [],
   "source": [
    "from sklearn.discriminant_analysis import LinearDiscriminantAnalysis as LDA\n",
    "lda=LDA(n_components=2)\n",
    "lda.fit(train,labels_train)"
   ]
  },
  {
   "cell_type": "code",
   "execution_count": null,
   "metadata": {},
   "outputs": [],
   "source": [
    "train_SANO_list=[]\n",
    "train_CMV_list=[]\n",
    "train_SURV_list=[]\n",
    "target_size = (224, 224)\n",
    "folder= '/home/jacobo15defrutos/AVS9/Data/saved_seg_class_images/train_total/'\n",
    "for name in df_train['Name']:\n",
    "    path= folder + name\n",
    "    img=cv2.imread(path, cv2.IMREAD_GRAYSCALE)\n",
    "    img= cv2.resize(img,target_size)\n",
    "    img=img.ravel()\n",
    "    if 'SANO' in name:\n",
    "        train_SANO_list.append(img)\n",
    "    elif 'CMV' in name:\n",
    "        train_CMV_list.append(img)\n",
    "    elif 'SURV' in name:\n",
    "        train_SURV_list.append(img)\n",
    "train_SANO= np.array(train_SANO_list)\n",
    "train_CMV= np.array(train_CMV_list)\n",
    "train_SURV= np.array(train_SURV_list)\n",
    "train_CMV.shape"
   ]
  },
  {
   "cell_type": "code",
   "execution_count": null,
   "metadata": {},
   "outputs": [],
   "source": [
    "x_sano=lda.transform(train_SANO)\n",
    "x_cmv=lda.transform(train_CMV)\n",
    "x_surv=lda.transform(train_SURV)\n",
    "figsize=(10,6)\n",
    "fig ,ax = plt.subplots(figsize=figsize)\n",
    "ax.grid()\n",
    "ax.scatter(x_sano[:,0],x_sano[:,1],c='b',marker=\".\",label=\"Class SANO\")\n",
    "ax.scatter(x_cmv[:,0],x_cmv[:,1],c='r',marker=\".\",label=\"Class CMV\")\n",
    "ax.scatter(x_surv[:,0],x_surv[:,1],c='g',marker=\".\",label=\"Class SURV\")\n",
    "ax.legend()"
   ]
  }
 ],
 "metadata": {
  "kernelspec": {
   "display_name": "iris",
   "language": "python",
   "name": "python3"
  },
  "language_info": {
   "codemirror_mode": {
    "name": "ipython",
    "version": 3
   },
   "file_extension": ".py",
   "mimetype": "text/x-python",
   "name": "python",
   "nbconvert_exporter": "python",
   "pygments_lexer": "ipython3",
   "version": "3.10.13"
  }
 },
 "nbformat": 4,
 "nbformat_minor": 2
}
