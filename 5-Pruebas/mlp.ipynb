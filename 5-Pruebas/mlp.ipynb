{
 "cells": [
  {
   "cell_type": "code",
   "execution_count": 1,
   "metadata": {},
   "outputs": [
    {
     "name": "stderr",
     "output_type": "stream",
     "text": [
      "2023-10-27 09:59:43.854883: I tensorflow/core/platform/cpu_feature_guard.cc:182] This TensorFlow binary is optimized to use available CPU instructions in performance-critical operations.\n",
      "To enable the following instructions: SSE4.1 SSE4.2 AVX AVX2 FMA, in other operations, rebuild TensorFlow with the appropriate compiler flags.\n"
     ]
    }
   ],
   "source": [
    "from sklearn.discriminant_analysis import LinearDiscriminantAnalysis as LDA\n",
    "from sklearn.decomposition import PCA\n",
    "from scipy.stats import multivariate_normal as norm\n",
    "import pandas as pd\n",
    "import cv2\n",
    "import numpy as np\n",
    "import keras as keras\n",
    "from keras.layers import Dense,Dropout, BatchNormalization,Input\n",
    "import matplotlib.pyplot as plt\n",
    "from sklearn.model_selection import train_test_split"
   ]
  },
  {
   "cell_type": "code",
   "execution_count": 2,
   "metadata": {},
   "outputs": [
    {
     "name": "stdout",
     "output_type": "stream",
     "text": [
      "Train shape:  (268, 2)\n",
      "Test shape:  (67, 2)\n"
     ]
    }
   ],
   "source": [
    "file_data_b_csv=r'/home/jacobo15defrutos/AVS9/5-Pruebas/total_imgs.csv'\n",
    "df= pd.read_csv(file_data_b_csv)\n",
    "df_train, df_test = train_test_split(df, test_size=0.2,random_state=42)\n",
    "print(\"Train shape: \",df_train.shape)\n",
    "print(\"Test shape: \",df_test.shape)"
   ]
  },
  {
   "cell_type": "code",
   "execution_count": 3,
   "metadata": {},
   "outputs": [
    {
     "data": {
      "text/plain": [
       "(268, 50176)"
      ]
     },
     "execution_count": 3,
     "metadata": {},
     "output_type": "execute_result"
    }
   ],
   "source": [
    "labels_train= df_train['Label']\n",
    "train_list=[]\n",
    "target_size = (224, 224)\n",
    "folder= '/home/jacobo15defrutos/AVS9/5-Pruebas/Total_images/'\n",
    "for name in df_train['Name']:\n",
    "    path= folder + name\n",
    "    img=cv2.imread(path, cv2.IMREAD_GRAYSCALE)\n",
    "    img= cv2.resize(img,target_size)\n",
    "    img=img.ravel()\n",
    "    train_list.append(img)\n",
    "train= np.array(train_list)\n",
    "train.shape"
   ]
  },
  {
   "cell_type": "code",
   "execution_count": 43,
   "metadata": {},
   "outputs": [
    {
     "data": {
      "text/html": [
       "<style>#sk-container-id-5 {color: black;}#sk-container-id-5 pre{padding: 0;}#sk-container-id-5 div.sk-toggleable {background-color: white;}#sk-container-id-5 label.sk-toggleable__label {cursor: pointer;display: block;width: 100%;margin-bottom: 0;padding: 0.3em;box-sizing: border-box;text-align: center;}#sk-container-id-5 label.sk-toggleable__label-arrow:before {content: \"▸\";float: left;margin-right: 0.25em;color: #696969;}#sk-container-id-5 label.sk-toggleable__label-arrow:hover:before {color: black;}#sk-container-id-5 div.sk-estimator:hover label.sk-toggleable__label-arrow:before {color: black;}#sk-container-id-5 div.sk-toggleable__content {max-height: 0;max-width: 0;overflow: hidden;text-align: left;background-color: #f0f8ff;}#sk-container-id-5 div.sk-toggleable__content pre {margin: 0.2em;color: black;border-radius: 0.25em;background-color: #f0f8ff;}#sk-container-id-5 input.sk-toggleable__control:checked~div.sk-toggleable__content {max-height: 200px;max-width: 100%;overflow: auto;}#sk-container-id-5 input.sk-toggleable__control:checked~label.sk-toggleable__label-arrow:before {content: \"▾\";}#sk-container-id-5 div.sk-estimator input.sk-toggleable__control:checked~label.sk-toggleable__label {background-color: #d4ebff;}#sk-container-id-5 div.sk-label input.sk-toggleable__control:checked~label.sk-toggleable__label {background-color: #d4ebff;}#sk-container-id-5 input.sk-hidden--visually {border: 0;clip: rect(1px 1px 1px 1px);clip: rect(1px, 1px, 1px, 1px);height: 1px;margin: -1px;overflow: hidden;padding: 0;position: absolute;width: 1px;}#sk-container-id-5 div.sk-estimator {font-family: monospace;background-color: #f0f8ff;border: 1px dotted black;border-radius: 0.25em;box-sizing: border-box;margin-bottom: 0.5em;}#sk-container-id-5 div.sk-estimator:hover {background-color: #d4ebff;}#sk-container-id-5 div.sk-parallel-item::after {content: \"\";width: 100%;border-bottom: 1px solid gray;flex-grow: 1;}#sk-container-id-5 div.sk-label:hover label.sk-toggleable__label {background-color: #d4ebff;}#sk-container-id-5 div.sk-serial::before {content: \"\";position: absolute;border-left: 1px solid gray;box-sizing: border-box;top: 0;bottom: 0;left: 50%;z-index: 0;}#sk-container-id-5 div.sk-serial {display: flex;flex-direction: column;align-items: center;background-color: white;padding-right: 0.2em;padding-left: 0.2em;position: relative;}#sk-container-id-5 div.sk-item {position: relative;z-index: 1;}#sk-container-id-5 div.sk-parallel {display: flex;align-items: stretch;justify-content: center;background-color: white;position: relative;}#sk-container-id-5 div.sk-item::before, #sk-container-id-5 div.sk-parallel-item::before {content: \"\";position: absolute;border-left: 1px solid gray;box-sizing: border-box;top: 0;bottom: 0;left: 50%;z-index: -1;}#sk-container-id-5 div.sk-parallel-item {display: flex;flex-direction: column;z-index: 1;position: relative;background-color: white;}#sk-container-id-5 div.sk-parallel-item:first-child::after {align-self: flex-end;width: 50%;}#sk-container-id-5 div.sk-parallel-item:last-child::after {align-self: flex-start;width: 50%;}#sk-container-id-5 div.sk-parallel-item:only-child::after {width: 0;}#sk-container-id-5 div.sk-dashed-wrapped {border: 1px dashed gray;margin: 0 0.4em 0.5em 0.4em;box-sizing: border-box;padding-bottom: 0.4em;background-color: white;}#sk-container-id-5 div.sk-label label {font-family: monospace;font-weight: bold;display: inline-block;line-height: 1.2em;}#sk-container-id-5 div.sk-label-container {text-align: center;}#sk-container-id-5 div.sk-container {/* jupyter's `normalize.less` sets `[hidden] { display: none; }` but bootstrap.min.css set `[hidden] { display: none !important; }` so we also need the `!important` here to be able to override the default hidden behavior on the sphinx rendered scikit-learn.org. See: https://github.com/scikit-learn/scikit-learn/issues/21755 */display: inline-block !important;position: relative;}#sk-container-id-5 div.sk-text-repr-fallback {display: none;}</style><div id=\"sk-container-id-5\" class=\"sk-top-container\"><div class=\"sk-text-repr-fallback\"><pre>PCA(n_components=10, whiten=True)</pre><b>In a Jupyter environment, please rerun this cell to show the HTML representation or trust the notebook. <br />On GitHub, the HTML representation is unable to render, please try loading this page with nbviewer.org.</b></div><div class=\"sk-container\" hidden><div class=\"sk-item\"><div class=\"sk-estimator sk-toggleable\"><input class=\"sk-toggleable__control sk-hidden--visually\" id=\"sk-estimator-id-5\" type=\"checkbox\" checked><label for=\"sk-estimator-id-5\" class=\"sk-toggleable__label sk-toggleable__label-arrow\">PCA</label><div class=\"sk-toggleable__content\"><pre>PCA(n_components=10, whiten=True)</pre></div></div></div></div></div>"
      ],
      "text/plain": [
       "PCA(n_components=10, whiten=True)"
      ]
     },
     "execution_count": 43,
     "metadata": {},
     "output_type": "execute_result"
    }
   ],
   "source": [
    "N_COMPONENTS=10\n",
    "lda=PCA(n_components=N_COMPONENTS,whiten=True)\n",
    "lda.fit(train)"
   ]
  },
  {
   "cell_type": "code",
   "execution_count": 44,
   "metadata": {},
   "outputs": [
    {
     "data": {
      "text/plain": [
       "(92, 50176)"
      ]
     },
     "execution_count": 44,
     "metadata": {},
     "output_type": "execute_result"
    }
   ],
   "source": [
    "train_SANO_list=[]\n",
    "train_CMV_list=[]\n",
    "train_SURV_list=[]\n",
    "target_size = (224, 224)\n",
    "folder= '/home/jacobo15defrutos/AVS9/5-Pruebas/Total_images/'\n",
    "for name in df['Name']:\n",
    "    path= folder + name\n",
    "    img=cv2.imread(path, cv2.IMREAD_GRAYSCALE)\n",
    "    img= cv2.resize(img,target_size)\n",
    "    img=img.ravel()\n",
    "    if 'SANO' in name:\n",
    "        train_SANO_list.append(img)\n",
    "    elif 'CMV' in name:\n",
    "        train_CMV_list.append(img)\n",
    "    elif 'SURV' in name:\n",
    "        train_SURV_list.append(img)\n",
    "train_SANO= np.array(train_SANO_list)\n",
    "train_CMV= np.array(train_CMV_list)\n",
    "train_SURV= np.array(train_SURV_list)\n",
    "train_SURV.shape"
   ]
  },
  {
   "cell_type": "code",
   "execution_count": 45,
   "metadata": {},
   "outputs": [
    {
     "data": {
      "text/plain": [
       "(67, 50176)"
      ]
     },
     "execution_count": 45,
     "metadata": {},
     "output_type": "execute_result"
    }
   ],
   "source": [
    "labels_test= df_test['Label']\n",
    "test_list=[]\n",
    "target_size = (224, 224)\n",
    "folder= '/home/jacobo15defrutos/AVS9/5-Pruebas/Total_images/'\n",
    "for name in df_test['Name']:\n",
    "    path= folder + name\n",
    "    img=cv2.imread(path, cv2.IMREAD_GRAYSCALE)\n",
    "    img= cv2.resize(img,target_size)\n",
    "    img_dense = img.ravel()\n",
    "    test_list.append(img_dense)\n",
    "test= np.array(test_list)\n",
    "test.shape"
   ]
  },
  {
   "cell_type": "code",
   "execution_count": 46,
   "metadata": {},
   "outputs": [],
   "source": [
    "test_SANO_list=[]\n",
    "test_CMV_list=[]\n",
    "test_SURV_list=[]\n",
    "target_size = (224, 224)\n",
    "folder= '/home/jacobo15defrutos/AVS9/5-Pruebas/Total_images/'\n",
    "for name in df_test['Name']:\n",
    "    path= folder + name\n",
    "    img=cv2.imread(path, cv2.IMREAD_GRAYSCALE)\n",
    "    img= cv2.resize(img,target_size)\n",
    "    img=img.ravel()\n",
    "    if 'SANO' in name:\n",
    "        test_SANO_list.append(img)\n",
    "    elif 'CMV' in name:\n",
    "        test_CMV_list.append(img)\n",
    "    elif 'SURV' in name:\n",
    "        test_SURV_list.append(img)\n",
    "test_SANO= np.array(test_SANO_list)\n",
    "test_CMV= np.array(test_CMV_list)\n",
    "test_SURV= np.array(test_SURV_list)\n",
    "label_test_sano=0*np.ones(len(test_SANO))\n",
    "label_test_cmv=1*np.ones(len(test_CMV))\n",
    "label_test_surv=2*np.ones(len(test_SURV))"
   ]
  },
  {
   "cell_type": "code",
   "execution_count": 47,
   "metadata": {},
   "outputs": [
    {
     "data": {
      "text/plain": [
       "(268, 10)"
      ]
     },
     "execution_count": 47,
     "metadata": {},
     "output_type": "execute_result"
    }
   ],
   "source": [
    "x_train=lda.transform(train)\n",
    "x_test=lda.transform(test)\n",
    "x_train.shape"
   ]
  },
  {
   "cell_type": "code",
   "execution_count": 48,
   "metadata": {},
   "outputs": [
    {
     "name": "stdout",
     "output_type": "stream",
     "text": [
      "Model: \"sequential_4\"\n",
      "_________________________________________________________________\n",
      " Layer (type)                Output Shape              Param #   \n",
      "=================================================================\n",
      " dense_8 (Dense)             (None, 10)                110       \n",
      "                                                                 \n",
      " dense_9 (Dense)             (None, 5)                 55        \n",
      "                                                                 \n",
      " dense_10 (Dense)            (None, 3)                 18        \n",
      "                                                                 \n",
      "=================================================================\n",
      "Total params: 183\n",
      "Trainable params: 183\n",
      "Non-trainable params: 0\n",
      "_________________________________________________________________\n",
      "None\n"
     ]
    }
   ],
   "source": [
    "mlp = keras.models.Sequential()\n",
    "mlp.add(Input(shape=(N_COMPONENTS,)))\n",
    "mlp.add(Dense(10, activation='relu'))\n",
    "#mlp.add(BatchNormalization())\n",
    "mlp.add(Dense(5, activation='relu'))\n",
    "#mlp.add(BatchNormalization())\n",
    "mlp.add(Dense(3, activation='softmax'))\n",
    "print(mlp.summary())"
   ]
  },
  {
   "cell_type": "code",
   "execution_count": 49,
   "metadata": {},
   "outputs": [],
   "source": [
    "if len(labels_train.shape)==1:\n",
    "    y_train = keras.utils.to_categorical(labels_train, num_classes=3)\n",
    "if len(labels_test.shape)==1:\n",
    "    y_test = keras.utils.to_categorical(labels_test, num_classes=3)"
   ]
  },
  {
   "cell_type": "code",
   "execution_count": 50,
   "metadata": {},
   "outputs": [
    {
     "name": "stdout",
     "output_type": "stream",
     "text": [
      "Epoch 1/100\n"
     ]
    },
    {
     "name": "stdout",
     "output_type": "stream",
     "text": [
      "10/10 [==============================] - 1s 28ms/step - loss: 1.1204 - accuracy: 0.2952 - val_loss: 1.1298 - val_accuracy: 0.4146\n",
      "Epoch 2/100\n",
      "10/10 [==============================] - 0s 12ms/step - loss: 1.1111 - accuracy: 0.3921 - val_loss: 1.1243 - val_accuracy: 0.3902\n",
      "Epoch 3/100\n",
      "10/10 [==============================] - 0s 14ms/step - loss: 1.1036 - accuracy: 0.4405 - val_loss: 1.1204 - val_accuracy: 0.4146\n",
      "Epoch 4/100\n",
      "10/10 [==============================] - 0s 14ms/step - loss: 1.0967 - accuracy: 0.4361 - val_loss: 1.1176 - val_accuracy: 0.4146\n",
      "Epoch 5/100\n",
      "10/10 [==============================] - 0s 9ms/step - loss: 1.0903 - accuracy: 0.4537 - val_loss: 1.1151 - val_accuracy: 0.4390\n",
      "Epoch 6/100\n",
      "10/10 [==============================] - 0s 10ms/step - loss: 1.0851 - accuracy: 0.4626 - val_loss: 1.1123 - val_accuracy: 0.4390\n",
      "Epoch 7/100\n",
      "10/10 [==============================] - 0s 11ms/step - loss: 1.0799 - accuracy: 0.4714 - val_loss: 1.1088 - val_accuracy: 0.4634\n",
      "Epoch 8/100\n",
      "10/10 [==============================] - 0s 9ms/step - loss: 1.0744 - accuracy: 0.4670 - val_loss: 1.1076 - val_accuracy: 0.4634\n",
      "Epoch 9/100\n",
      "10/10 [==============================] - 0s 11ms/step - loss: 1.0697 - accuracy: 0.4846 - val_loss: 1.1050 - val_accuracy: 0.4634\n",
      "Epoch 10/100\n",
      "10/10 [==============================] - 0s 10ms/step - loss: 1.0656 - accuracy: 0.4934 - val_loss: 1.1036 - val_accuracy: 0.4634\n",
      "Epoch 11/100\n",
      "10/10 [==============================] - 0s 8ms/step - loss: 1.0615 - accuracy: 0.5022 - val_loss: 1.1022 - val_accuracy: 0.4634\n",
      "Epoch 12/100\n",
      "10/10 [==============================] - 0s 10ms/step - loss: 1.0576 - accuracy: 0.5154 - val_loss: 1.1003 - val_accuracy: 0.4878\n",
      "Epoch 13/100\n",
      "10/10 [==============================] - 0s 10ms/step - loss: 1.0533 - accuracy: 0.5110 - val_loss: 1.0979 - val_accuracy: 0.4878\n",
      "Epoch 14/100\n",
      "10/10 [==============================] - 0s 8ms/step - loss: 1.0488 - accuracy: 0.5110 - val_loss: 1.0948 - val_accuracy: 0.4878\n",
      "Epoch 15/100\n",
      "10/10 [==============================] - 0s 10ms/step - loss: 1.0453 - accuracy: 0.5022 - val_loss: 1.0926 - val_accuracy: 0.4878\n",
      "Epoch 16/100\n",
      "10/10 [==============================] - 0s 8ms/step - loss: 1.0418 - accuracy: 0.5110 - val_loss: 1.0912 - val_accuracy: 0.4878\n",
      "Epoch 17/100\n",
      "10/10 [==============================] - 0s 20ms/step - loss: 1.0385 - accuracy: 0.5242 - val_loss: 1.0880 - val_accuracy: 0.4878\n",
      "Epoch 18/100\n",
      "10/10 [==============================] - 0s 9ms/step - loss: 1.0346 - accuracy: 0.5242 - val_loss: 1.0875 - val_accuracy: 0.4878\n",
      "Epoch 19/100\n",
      "10/10 [==============================] - 0s 9ms/step - loss: 1.0309 - accuracy: 0.5286 - val_loss: 1.0855 - val_accuracy: 0.4878\n",
      "Epoch 20/100\n",
      "10/10 [==============================] - 0s 12ms/step - loss: 1.0266 - accuracy: 0.5330 - val_loss: 1.0844 - val_accuracy: 0.5122\n",
      "Epoch 21/100\n",
      "10/10 [==============================] - 0s 11ms/step - loss: 1.0220 - accuracy: 0.5198 - val_loss: 1.0834 - val_accuracy: 0.5366\n",
      "Epoch 22/100\n",
      "10/10 [==============================] - 0s 11ms/step - loss: 1.0179 - accuracy: 0.5198 - val_loss: 1.0843 - val_accuracy: 0.5366\n",
      "Epoch 23/100\n",
      "10/10 [==============================] - 0s 10ms/step - loss: 1.0136 - accuracy: 0.5242 - val_loss: 1.0829 - val_accuracy: 0.5366\n",
      "Epoch 24/100\n",
      "10/10 [==============================] - 0s 12ms/step - loss: 1.0105 - accuracy: 0.5242 - val_loss: 1.0801 - val_accuracy: 0.5366\n",
      "Epoch 25/100\n",
      "10/10 [==============================] - 0s 11ms/step - loss: 1.0066 - accuracy: 0.5330 - val_loss: 1.0810 - val_accuracy: 0.5366\n",
      "Epoch 26/100\n",
      "10/10 [==============================] - 0s 10ms/step - loss: 1.0030 - accuracy: 0.5330 - val_loss: 1.0814 - val_accuracy: 0.5366\n",
      "Epoch 27/100\n",
      "10/10 [==============================] - 0s 8ms/step - loss: 0.9999 - accuracy: 0.5374 - val_loss: 1.0804 - val_accuracy: 0.5366\n",
      "Epoch 28/100\n",
      "10/10 [==============================] - 0s 8ms/step - loss: 0.9965 - accuracy: 0.5419 - val_loss: 1.0791 - val_accuracy: 0.5366\n",
      "Epoch 29/100\n",
      "10/10 [==============================] - 0s 10ms/step - loss: 0.9941 - accuracy: 0.5374 - val_loss: 1.0811 - val_accuracy: 0.5366\n",
      "Epoch 30/100\n",
      "10/10 [==============================] - 0s 9ms/step - loss: 0.9912 - accuracy: 0.5330 - val_loss: 1.0826 - val_accuracy: 0.5366\n",
      "Epoch 31/100\n",
      "10/10 [==============================] - 0s 9ms/step - loss: 0.9890 - accuracy: 0.5330 - val_loss: 1.0857 - val_accuracy: 0.5366\n",
      "Epoch 32/100\n",
      "10/10 [==============================] - 0s 9ms/step - loss: 0.9868 - accuracy: 0.5374 - val_loss: 1.0885 - val_accuracy: 0.5366\n",
      "Epoch 33/100\n",
      "10/10 [==============================] - 0s 8ms/step - loss: 0.9844 - accuracy: 0.5419 - val_loss: 1.0866 - val_accuracy: 0.5366\n",
      "Epoch 34/100\n",
      "10/10 [==============================] - 0s 8ms/step - loss: 0.9817 - accuracy: 0.5507 - val_loss: 1.0863 - val_accuracy: 0.5366\n",
      "Epoch 35/100\n",
      "10/10 [==============================] - 0s 15ms/step - loss: 0.9793 - accuracy: 0.5507 - val_loss: 1.0861 - val_accuracy: 0.5366\n",
      "Epoch 36/100\n",
      "10/10 [==============================] - 0s 9ms/step - loss: 0.9774 - accuracy: 0.5551 - val_loss: 1.0878 - val_accuracy: 0.5366\n",
      "Epoch 37/100\n",
      "10/10 [==============================] - 0s 8ms/step - loss: 0.9749 - accuracy: 0.5595 - val_loss: 1.0865 - val_accuracy: 0.5122\n",
      "Epoch 38/100\n",
      "10/10 [==============================] - 0s 9ms/step - loss: 0.9726 - accuracy: 0.5595 - val_loss: 1.0856 - val_accuracy: 0.5366\n",
      "Epoch 39/100\n",
      "10/10 [==============================] - 0s 7ms/step - loss: 0.9700 - accuracy: 0.5595 - val_loss: 1.0812 - val_accuracy: 0.5366\n",
      "Epoch 40/100\n",
      "10/10 [==============================] - 0s 10ms/step - loss: 0.9678 - accuracy: 0.5595 - val_loss: 1.0800 - val_accuracy: 0.5366\n",
      "Epoch 41/100\n",
      "10/10 [==============================] - 0s 8ms/step - loss: 0.9649 - accuracy: 0.5595 - val_loss: 1.0807 - val_accuracy: 0.5366\n",
      "Epoch 42/100\n",
      "10/10 [==============================] - 0s 7ms/step - loss: 0.9626 - accuracy: 0.5595 - val_loss: 1.0826 - val_accuracy: 0.5122\n",
      "Epoch 43/100\n",
      "10/10 [==============================] - 0s 9ms/step - loss: 0.9606 - accuracy: 0.5595 - val_loss: 1.0828 - val_accuracy: 0.5122\n",
      "Epoch 44/100\n",
      "10/10 [==============================] - 0s 7ms/step - loss: 0.9584 - accuracy: 0.5595 - val_loss: 1.0821 - val_accuracy: 0.5366\n",
      "Epoch 45/100\n",
      "10/10 [==============================] - 0s 6ms/step - loss: 0.9565 - accuracy: 0.5683 - val_loss: 1.0805 - val_accuracy: 0.5122\n",
      "Epoch 46/100\n",
      "10/10 [==============================] - 0s 10ms/step - loss: 0.9546 - accuracy: 0.5683 - val_loss: 1.0817 - val_accuracy: 0.5122\n",
      "Epoch 47/100\n",
      "10/10 [==============================] - 0s 7ms/step - loss: 0.9524 - accuracy: 0.5639 - val_loss: 1.0809 - val_accuracy: 0.5122\n",
      "Epoch 48/100\n",
      "10/10 [==============================] - 0s 9ms/step - loss: 0.9510 - accuracy: 0.5639 - val_loss: 1.0813 - val_accuracy: 0.5122\n",
      "Epoch 49/100\n",
      "10/10 [==============================] - 0s 7ms/step - loss: 0.9487 - accuracy: 0.5595 - val_loss: 1.0800 - val_accuracy: 0.4878\n",
      "Epoch 50/100\n",
      "10/10 [==============================] - 0s 10ms/step - loss: 0.9471 - accuracy: 0.5551 - val_loss: 1.0749 - val_accuracy: 0.4878\n",
      "Epoch 51/100\n",
      "10/10 [==============================] - 0s 7ms/step - loss: 0.9450 - accuracy: 0.5595 - val_loss: 1.0751 - val_accuracy: 0.4878\n",
      "Epoch 52/100\n",
      "10/10 [==============================] - 0s 7ms/step - loss: 0.9427 - accuracy: 0.5551 - val_loss: 1.0770 - val_accuracy: 0.4878\n",
      "Epoch 53/100\n",
      "10/10 [==============================] - 0s 9ms/step - loss: 0.9406 - accuracy: 0.5595 - val_loss: 1.0788 - val_accuracy: 0.4878\n",
      "Epoch 54/100\n",
      "10/10 [==============================] - 0s 8ms/step - loss: 0.9387 - accuracy: 0.5639 - val_loss: 1.0817 - val_accuracy: 0.4878\n",
      "Epoch 55/100\n",
      "10/10 [==============================] - 0s 8ms/step - loss: 0.9367 - accuracy: 0.5639 - val_loss: 1.0823 - val_accuracy: 0.4634\n",
      "Epoch 56/100\n",
      "10/10 [==============================] - 0s 15ms/step - loss: 0.9351 - accuracy: 0.5727 - val_loss: 1.0845 - val_accuracy: 0.4634\n",
      "Epoch 57/100\n",
      "10/10 [==============================] - 0s 14ms/step - loss: 0.9329 - accuracy: 0.5727 - val_loss: 1.0830 - val_accuracy: 0.4634\n",
      "Epoch 58/100\n",
      "10/10 [==============================] - 0s 9ms/step - loss: 0.9314 - accuracy: 0.5727 - val_loss: 1.0781 - val_accuracy: 0.4634\n",
      "Epoch 59/100\n",
      "10/10 [==============================] - 0s 9ms/step - loss: 0.9299 - accuracy: 0.5639 - val_loss: 1.0781 - val_accuracy: 0.4634\n",
      "Epoch 60/100\n",
      "10/10 [==============================] - 0s 11ms/step - loss: 0.9284 - accuracy: 0.5639 - val_loss: 1.0788 - val_accuracy: 0.4634\n",
      "Epoch 61/100\n",
      "10/10 [==============================] - 0s 10ms/step - loss: 0.9266 - accuracy: 0.5639 - val_loss: 1.0806 - val_accuracy: 0.4634\n",
      "Epoch 62/100\n",
      "10/10 [==============================] - 0s 10ms/step - loss: 0.9246 - accuracy: 0.5683 - val_loss: 1.0697 - val_accuracy: 0.4634\n",
      "Epoch 63/100\n",
      "10/10 [==============================] - 0s 9ms/step - loss: 0.9241 - accuracy: 0.5683 - val_loss: 1.0691 - val_accuracy: 0.4634\n",
      "Epoch 64/100\n",
      "10/10 [==============================] - 0s 8ms/step - loss: 0.9233 - accuracy: 0.5683 - val_loss: 1.0711 - val_accuracy: 0.4634\n",
      "Epoch 65/100\n",
      "10/10 [==============================] - 0s 10ms/step - loss: 0.9216 - accuracy: 0.5639 - val_loss: 1.0722 - val_accuracy: 0.4634\n",
      "Epoch 66/100\n",
      "10/10 [==============================] - 0s 10ms/step - loss: 0.9203 - accuracy: 0.5683 - val_loss: 1.0732 - val_accuracy: 0.4634\n",
      "Epoch 67/100\n",
      "10/10 [==============================] - 0s 15ms/step - loss: 0.9191 - accuracy: 0.5683 - val_loss: 1.0747 - val_accuracy: 0.4634\n",
      "Epoch 68/100\n",
      "10/10 [==============================] - 0s 9ms/step - loss: 0.9173 - accuracy: 0.5683 - val_loss: 1.0740 - val_accuracy: 0.4634\n",
      "Epoch 69/100\n",
      "10/10 [==============================] - 0s 8ms/step - loss: 0.9153 - accuracy: 0.5683 - val_loss: 1.0741 - val_accuracy: 0.4634\n",
      "Epoch 70/100\n",
      "10/10 [==============================] - 0s 9ms/step - loss: 0.9137 - accuracy: 0.5683 - val_loss: 1.0692 - val_accuracy: 0.4390\n",
      "Epoch 71/100\n",
      "10/10 [==============================] - 0s 11ms/step - loss: 0.9130 - accuracy: 0.5727 - val_loss: 1.0717 - val_accuracy: 0.4390\n",
      "Epoch 72/100\n",
      "10/10 [==============================] - 0s 8ms/step - loss: 0.9116 - accuracy: 0.5683 - val_loss: 1.0747 - val_accuracy: 0.4390\n",
      "Epoch 73/100\n",
      "10/10 [==============================] - 0s 8ms/step - loss: 0.9094 - accuracy: 0.5639 - val_loss: 1.0791 - val_accuracy: 0.4634\n",
      "Epoch 74/100\n",
      "10/10 [==============================] - 0s 7ms/step - loss: 0.9073 - accuracy: 0.5683 - val_loss: 1.0819 - val_accuracy: 0.4634\n",
      "Epoch 75/100\n",
      "10/10 [==============================] - 0s 9ms/step - loss: 0.9056 - accuracy: 0.5727 - val_loss: 1.0832 - val_accuracy: 0.4634\n",
      "Epoch 76/100\n",
      "10/10 [==============================] - 0s 10ms/step - loss: 0.9040 - accuracy: 0.5683 - val_loss: 1.0814 - val_accuracy: 0.4390\n",
      "Epoch 77/100\n",
      "10/10 [==============================] - 0s 8ms/step - loss: 0.9028 - accuracy: 0.5683 - val_loss: 1.0683 - val_accuracy: 0.4390\n",
      "Epoch 78/100\n",
      "10/10 [==============================] - 0s 10ms/step - loss: 0.9027 - accuracy: 0.5595 - val_loss: 1.0661 - val_accuracy: 0.4634\n",
      "Epoch 79/100\n",
      "10/10 [==============================] - 0s 10ms/step - loss: 0.9004 - accuracy: 0.5595 - val_loss: 1.0676 - val_accuracy: 0.4634\n",
      "Epoch 80/100\n",
      "10/10 [==============================] - 0s 11ms/step - loss: 0.8990 - accuracy: 0.5595 - val_loss: 1.0703 - val_accuracy: 0.4634\n",
      "Epoch 81/100\n",
      "10/10 [==============================] - 0s 9ms/step - loss: 0.8972 - accuracy: 0.5595 - val_loss: 1.0722 - val_accuracy: 0.4634\n",
      "Epoch 82/100\n",
      "10/10 [==============================] - 0s 9ms/step - loss: 0.8960 - accuracy: 0.5639 - val_loss: 1.0719 - val_accuracy: 0.4634\n",
      "Epoch 83/100\n",
      "10/10 [==============================] - 0s 11ms/step - loss: 0.8949 - accuracy: 0.5639 - val_loss: 1.0761 - val_accuracy: 0.4634\n",
      "Epoch 84/100\n",
      "10/10 [==============================] - 0s 5ms/step - loss: 0.8936 - accuracy: 0.5551 - val_loss: 1.0801 - val_accuracy: 0.4634\n",
      "Epoch 85/100\n",
      "10/10 [==============================] - 0s 9ms/step - loss: 0.8923 - accuracy: 0.5595 - val_loss: 1.0844 - val_accuracy: 0.4634\n",
      "Epoch 86/100\n",
      "10/10 [==============================] - 0s 7ms/step - loss: 0.8909 - accuracy: 0.5595 - val_loss: 1.0876 - val_accuracy: 0.4634\n",
      "Epoch 87/100\n",
      "10/10 [==============================] - 0s 9ms/step - loss: 0.8892 - accuracy: 0.5551 - val_loss: 1.0901 - val_accuracy: 0.4634\n",
      "Epoch 88/100\n",
      "10/10 [==============================] - 0s 6ms/step - loss: 0.8882 - accuracy: 0.5639 - val_loss: 1.0922 - val_accuracy: 0.4634\n",
      "Epoch 89/100\n",
      "10/10 [==============================] - 0s 8ms/step - loss: 0.8863 - accuracy: 0.5639 - val_loss: 1.0942 - val_accuracy: 0.4634\n",
      "Epoch 90/100\n",
      "10/10 [==============================] - 0s 13ms/step - loss: 0.8855 - accuracy: 0.5683 - val_loss: 1.0976 - val_accuracy: 0.4634\n",
      "Epoch 91/100\n",
      "10/10 [==============================] - 0s 9ms/step - loss: 0.8840 - accuracy: 0.5727 - val_loss: 1.0999 - val_accuracy: 0.4390\n",
      "Epoch 92/100\n",
      "10/10 [==============================] - 0s 8ms/step - loss: 0.8827 - accuracy: 0.5683 - val_loss: 1.1036 - val_accuracy: 0.4634\n",
      "Epoch 93/100\n",
      "10/10 [==============================] - 0s 11ms/step - loss: 0.8815 - accuracy: 0.5683 - val_loss: 1.1043 - val_accuracy: 0.4390\n",
      "Epoch 94/100\n",
      "10/10 [==============================] - 0s 9ms/step - loss: 0.8802 - accuracy: 0.5727 - val_loss: 1.0958 - val_accuracy: 0.4146\n",
      "Epoch 95/100\n",
      "10/10 [==============================] - 0s 10ms/step - loss: 0.8786 - accuracy: 0.5815 - val_loss: 1.0965 - val_accuracy: 0.4146\n",
      "Epoch 96/100\n",
      "10/10 [==============================] - 0s 8ms/step - loss: 0.8780 - accuracy: 0.5859 - val_loss: 1.1024 - val_accuracy: 0.3902\n",
      "Epoch 97/100\n",
      "10/10 [==============================] - 0s 13ms/step - loss: 0.8771 - accuracy: 0.5815 - val_loss: 1.1020 - val_accuracy: 0.3902\n",
      "Epoch 98/100\n",
      "10/10 [==============================] - 0s 10ms/step - loss: 0.8745 - accuracy: 0.5815 - val_loss: 1.1080 - val_accuracy: 0.3902\n",
      "Epoch 99/100\n",
      "10/10 [==============================] - 0s 8ms/step - loss: 0.8734 - accuracy: 0.5771 - val_loss: 1.1160 - val_accuracy: 0.3902\n",
      "Epoch 100/100\n",
      "10/10 [==============================] - 0s 12ms/step - loss: 0.8724 - accuracy: 0.5771 - val_loss: 1.1133 - val_accuracy: 0.3902\n"
     ]
    }
   ],
   "source": [
    "optimizer=keras.optimizers.Adam(learning_rate=1e-3)\n",
    "mlp.compile(loss='categorical_crossentropy', optimizer=optimizer, metrics=['accuracy'])\n",
    "h = mlp.fit(x_train, y_train, epochs=100, shuffle=True, batch_size=25,validation_split=0.15, verbose=1)"
   ]
  },
  {
   "cell_type": "code",
   "execution_count": 51,
   "metadata": {},
   "outputs": [
    {
     "name": "stdout",
     "output_type": "stream",
     "text": [
      "train acc: 57.71 % \n",
      "val acc: 39.02 %\n"
     ]
    },
    {
     "data": {
      "image/png": "[encoded data removed]",
      "text/plain": [
       "<Figure size 640x480 with 1 Axes>"
      ]
     },
     "metadata": {},
     "output_type": "display_data"
    }
   ],
   "source": [
    "plt.plot(h.history['accuracy'])\n",
    "plt.plot(h.history['val_accuracy'], 'r')\n",
    "plt.legend(['train acc', 'val acc'])\n",
    "print('train acc: %.2f %% \\nval acc: %.2f %%'%(h.history['accuracy'][-1]*100,h.history['val_accuracy'][-1]*100))"
   ]
  },
  {
   "cell_type": "code",
   "execution_count": 52,
   "metadata": {},
   "outputs": [
    {
     "data": {
      "text/plain": [
       "<matplotlib.legend.Legend at 0x7f7fcfb1c700>"
      ]
     },
     "execution_count": 52,
     "metadata": {},
     "output_type": "execute_result"
    },
    {
     "data": {
      "image/png": "[encoded data removed]",
      "text/plain": [
       "<Figure size 640x480 with 1 Axes>"
      ]
     },
     "metadata": {},
     "output_type": "display_data"
    }
   ],
   "source": [
    "plt.plot(np.log10(h.history['loss']))\n",
    "plt.plot(np.log10(h.history['val_loss']), 'r')\n",
    "plt.legend(['train loss', 'val loss'])"
   ]
  },
  {
   "cell_type": "code",
   "execution_count": 53,
   "metadata": {},
   "outputs": [
    {
     "name": "stdout",
     "output_type": "stream",
     "text": [
      "3/3 [==============================] - 0s 10ms/step\n",
      "3/3 [==============================] - 0s 9ms/step - loss: 1.3227 - accuracy: 0.3134\n",
      "Total Accuracy:  31.343284249305725 %\n"
     ]
    },
    {
     "data": {
      "text/plain": [
       "array([0, 0, 0, 0, 0, 1, 0, 2, 0, 0, 0, 0, 0, 0, 0, 2, 2, 0, 2, 2, 0, 1,\n",
       "       0, 2, 0, 0, 2, 0, 0, 0, 0, 0, 0, 2, 0, 0, 2, 0, 0, 1, 0, 2, 0, 0,\n",
       "       2, 0, 1, 0, 0, 0, 2, 1, 0, 0, 0, 0, 2, 1, 1, 2, 1, 1, 0, 2, 0, 2,\n",
       "       1])"
      ]
     },
     "execution_count": 53,
     "metadata": {},
     "output_type": "execute_result"
    }
   ],
   "source": [
    "from sklearn.metrics import accuracy_score\n",
    "pred= np.argmax(mlp.predict(x_test),axis=1)\n",
    "acc_total=mlp.evaluate(x_test,y_test)[1]\n",
    "#acc_total= accuracy_score(labels_test,pred)\n",
    "print(\"Total Accuracy: \",acc_total*100,\"%\")\n",
    "pred"
   ]
  },
  {
   "cell_type": "markdown",
   "metadata": {},
   "source": [
    "### Calculate each class accuracy"
   ]
  },
  {
   "cell_type": "code",
   "execution_count": 54,
   "metadata": {},
   "outputs": [
    {
     "name": "stdout",
     "output_type": "stream",
     "text": [
      "Class SANO Accuracy: 66.67 %\n",
      "Class CMV Accuracy: 11.54 %\n",
      "Class SURV Accuracy: 11.76 %\n"
     ]
    }
   ],
   "source": [
    "acc_sano = np.sum(pred[labels_test == 0] == 0)/len(label_test_sano) * 100\n",
    "acc_cmv = np.sum(pred[labels_test == 1] == 1)/len(label_test_cmv) * 100\n",
    "acc_surv = np.sum(pred[labels_test == 2] == 2)/len(label_test_surv) * 100\n",
    "print(\"Class SANO Accuracy: {:.2f} %\".format(acc_sano))\n",
    "print(\"Class CMV Accuracy: {:.2f} %\".format(acc_cmv))\n",
    "print(\"Class SURV Accuracy: {:.2f} %\".format(acc_surv))"
   ]
  }
 ],
 "metadata": {
  "kernelspec": {
   "display_name": "iris",
   "language": "python",
   "name": "python3"
  },
  "language_info": {
   "codemirror_mode": {
    "name": "ipython",
    "version": 3
   },
   "file_extension": ".py",
   "mimetype": "text/x-python",
   "name": "python",
   "nbconvert_exporter": "python",
   "pygments_lexer": "ipython3",
   "version": "3.10.13"
  }
 },
 "nbformat": 4,
 "nbformat_minor": 2
}
