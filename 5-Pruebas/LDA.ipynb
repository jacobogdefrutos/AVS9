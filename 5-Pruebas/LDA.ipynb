{
 "cells": [
  {
   "cell_type": "code",
   "execution_count": 8,
   "metadata": {},
   "outputs": [],
   "source": [
    "from sklearn.discriminant_analysis import LinearDiscriminantAnalysis as LDA\n",
    "import pandas as pd\n",
    "import cv2\n",
    "import numpy as np\n",
    "import matplotlib.pyplot as plt"
   ]
  },
  {
   "cell_type": "code",
   "execution_count": 9,
   "metadata": {},
   "outputs": [
    {
     "data": {
      "text/plain": [
       "(316, 50176)"
      ]
     },
     "execution_count": 9,
     "metadata": {},
     "output_type": "execute_result"
    }
   ],
   "source": [
    "file_train_b_csv=r'/home/jacobo15defrutos/AVS9/5-Pruebas/total_imgs.csv'\n",
    "df_train= pd.read_csv(file_train_b_csv)\n",
    "labels_train= df_train['Label']\n",
    "train_list=[]\n",
    "target_size = (224, 224)\n",
    "folder= '/home/jacobo15defrutos/AVS9/5-Pruebas/Total_images/'\n",
    "for name in df_train['Name']:\n",
    "    path= folder + name\n",
    "    img=cv2.imread(path, cv2.IMREAD_GRAYSCALE)\n",
    "    img= cv2.resize(img,target_size)\n",
    "    img=img.ravel()\n",
    "    train_list.append(img)\n",
    "train= np.array(train_list)\n",
    "train.shape"
   ]
  },
  {
   "cell_type": "code",
   "execution_count": null,
   "metadata": {},
   "outputs": [],
   "source": [
    "lda=LDA(n_components=2)\n",
    "lda.fit(train,labels_train)"
   ]
  },
  {
   "cell_type": "code",
   "execution_count": null,
   "metadata": {},
   "outputs": [],
   "source": [
    "train_SANO_list=[]\n",
    "train_CMV_list=[]\n",
    "train_SURV_list=[]\n",
    "target_size = (224, 224)\n",
    "folder= '/home/jacobo15defrutos/AVS9/5-Pruebas/Total_images/'\n",
    "for name in df_train['Name']:\n",
    "    path= folder + name\n",
    "    img=cv2.imread(path, cv2.IMREAD_GRAYSCALE)\n",
    "    img= cv2.resize(img,target_size)\n",
    "    img=img.ravel()\n",
    "    if 'SANO' in name:\n",
    "        train_SANO_list.append(img)\n",
    "    elif 'CMV' in name:\n",
    "        train_CMV_list.append(img)\n",
    "    elif 'SURV' in name:\n",
    "        train_SURV_list.append(img)\n",
    "train_SANO= np.array(train_SANO_list)\n",
    "train_CMV= np.array(train_CMV_list)\n",
    "train_SURV= np.array(train_SURV_list)\n",
    "train_CMV.shape"
   ]
  },
  {
   "cell_type": "code",
   "execution_count": null,
   "metadata": {},
   "outputs": [],
   "source": [
    "x_sano=lda.transform(train_SANO)\n",
    "x_cmv=lda.transform(train_CMV)\n",
    "x_surv=lda.transform(train_SURV)\n",
    "figsize=(10,6)\n",
    "fig ,ax = plt.subplots(figsize=figsize)\n",
    "ax.grid()\n",
    "ax.scatter(x_sano[:,0],x_sano[:,1],c='b',marker=\".\",label=\"Class SANO\")\n",
    "ax.scatter(x_cmv[:,0],x_cmv[:,1],c='r',marker=\".\",label=\"Class CMV\")\n",
    "ax.scatter(x_surv[:,0],x_surv[:,1],c='g',marker=\".\",label=\"Class SURV\")\n",
    "ax.legend()"
   ]
  }
 ],
 "metadata": {
  "kernelspec": {
   "display_name": "iris",
   "language": "python",
   "name": "python3"
  },
  "language_info": {
   "codemirror_mode": {
    "name": "ipython",
    "version": 3
   },
   "file_extension": ".py",
   "mimetype": "text/x-python",
   "name": "python",
   "nbconvert_exporter": "python",
   "pygments_lexer": "ipython3",
   "version": "3.10.13"
  }
 },
 "nbformat": 4,
 "nbformat_minor": 2
}
